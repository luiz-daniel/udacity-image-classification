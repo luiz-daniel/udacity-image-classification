{
 "cells": [
  {
   "cell_type": "markdown",
   "metadata": {
    "collapsed": true,
    "deletable": true,
    "editable": true
   },
   "source": [
    "# Image Classification\n",
    "In this project, you'll classify images from the [CIFAR-10 dataset](https://www.cs.toronto.edu/~kriz/cifar.html).  The dataset consists of airplanes, dogs, cats, and other objects. You'll preprocess the images, then train a convolutional neural network on all the samples. The images need to be normalized and the labels need to be one-hot encoded.  You'll get to apply what you learned and build a convolutional, max pooling, dropout, and fully connected layers.  At the end, you'll get to see your neural network's predictions on the sample images.\n",
    "## Get the Data\n",
    "Run the following cell to download the [CIFAR-10 dataset for python](https://www.cs.toronto.edu/~kriz/cifar-10-python.tar.gz)."
   ]
  },
  {
   "cell_type": "code",
   "execution_count": 1,
   "metadata": {
    "collapsed": false,
    "deletable": true,
    "editable": true
   },
   "outputs": [
    {
     "name": "stdout",
     "output_type": "stream",
     "text": [
      "All files found!\n"
     ]
    }
   ],
   "source": [
    "\"\"\"\n",
    "DON'T MODIFY ANYTHING IN THIS CELL THAT IS BELOW THIS LINE\n",
    "\"\"\"\n",
    "from urllib.request import urlretrieve\n",
    "from os.path import isfile, isdir\n",
    "from tqdm import tqdm\n",
    "import problem_unittests as tests\n",
    "import tarfile\n",
    "\n",
    "cifar10_dataset_folder_path = 'cifar-10-batches-py'\n",
    "\n",
    "class DLProgress(tqdm):\n",
    "    last_block = 0\n",
    "\n",
    "    def hook(self, block_num=1, block_size=1, total_size=None):\n",
    "        self.total = total_size\n",
    "        self.update((block_num - self.last_block) * block_size)\n",
    "        self.last_block = block_num\n",
    "\n",
    "if not isfile('cifar-10-python.tar.gz'):\n",
    "    with DLProgress(unit='B', unit_scale=True, miniters=1, desc='CIFAR-10 Dataset') as pbar:\n",
    "        urlretrieve(\n",
    "            'https://www.cs.toronto.edu/~kriz/cifar-10-python.tar.gz',\n",
    "            'cifar-10-python.tar.gz',\n",
    "            pbar.hook)\n",
    "\n",
    "if not isdir(cifar10_dataset_folder_path):\n",
    "    with tarfile.open('cifar-10-python.tar.gz') as tar:\n",
    "        tar.extractall()\n",
    "        tar.close()\n",
    "\n",
    "\n",
    "tests.test_folder_path(cifar10_dataset_folder_path)"
   ]
  },
  {
   "cell_type": "markdown",
   "metadata": {
    "deletable": true,
    "editable": true
   },
   "source": [
    "## Explore the Data\n",
    "The dataset is broken into batches to prevent your machine from running out of memory.  The CIFAR-10 dataset consists of 5 batches, named `data_batch_1`, `data_batch_2`, etc.. Each batch contains the labels and images that are one of the following:\n",
    "* airplane\n",
    "* automobile\n",
    "* bird\n",
    "* cat\n",
    "* deer\n",
    "* dog\n",
    "* frog\n",
    "* horse\n",
    "* ship\n",
    "* truck\n",
    "\n",
    "Understanding a dataset is part of making predictions on the data.  Play around with the code cell below by changing the `batch_id` and `sample_id`. The `batch_id` is the id for a batch (1-5). The `sample_id` is the id for a image and label pair in the batch.\n",
    "\n",
    "Ask yourself \"What are all possible labels?\", \"What is the range of values for the image data?\", \"Are the labels in order or random?\".  Answers to questions like these will help you preprocess the data and end up with better predictions."
   ]
  },
  {
   "cell_type": "code",
   "execution_count": 2,
   "metadata": {
    "collapsed": false,
    "deletable": true,
    "editable": true
   },
   "outputs": [
    {
     "name": "stdout",
     "output_type": "stream",
     "text": [
      "\n",
      "Stats of batch 1:\n",
      "Samples: 10000\n",
      "Label Counts: {0: 1005, 1: 974, 2: 1032, 3: 1016, 4: 999, 5: 937, 6: 1030, 7: 1001, 8: 1025, 9: 981}\n",
      "First 20 Labels: [6, 9, 9, 4, 1, 1, 2, 7, 8, 3, 4, 7, 7, 2, 9, 9, 9, 3, 2, 6]\n",
      "\n",
      "Example of Image 5:\n",
      "Image - Min Value: 0 Max Value: 252\n",
      "Image - Shape: (32, 32, 3)\n",
      "Label - Label Id: 1 Name: automobile\n"
     ]
    },
    {
     "data": {
      "image/png": "[encoded data removed]",
      "text/plain": [
       "<matplotlib.figure.Figure at 0x7fc8fe64bd30>"
      ]
     },
     "metadata": {
      "image/png": {
       "height": 250,
       "width": 253
      }
     },
     "output_type": "display_data"
    }
   ],
   "source": [
    "%matplotlib inline\n",
    "%config InlineBackend.figure_format = 'retina'\n",
    "\n",
    "import helper\n",
    "import numpy as np\n",
    "\n",
    "# Explore the dataset\n",
    "batch_id = 1\n",
    "sample_id = 5\n",
    "helper.display_stats(cifar10_dataset_folder_path, batch_id, sample_id)"
   ]
  },
  {
   "cell_type": "markdown",
   "metadata": {
    "deletable": true,
    "editable": true
   },
   "source": [
    "## Implement Preprocess Functions\n",
    "### Normalize\n",
    "In the cell below, implement the `normalize` function to take in image data, `x`, and return it as a normalized Numpy array. The values should be in the range of 0 to 1, inclusive.  The return object should be the same shape as `x`."
   ]
  },
  {
   "cell_type": "code",
   "execution_count": 3,
   "metadata": {
    "collapsed": false,
    "deletable": true,
    "editable": true
   },
   "outputs": [
    {
     "name": "stdout",
     "output_type": "stream",
     "text": [
      "Tests Passed\n"
     ]
    }
   ],
   "source": [
    "def normalize(x):\n",
    "    \"\"\"\n",
    "    Normalize a list of sample image data in the range of 0 to 1\n",
    "    : x: List of image data.  The image shape is (32, 32, 3)\n",
    "    : return: Numpy array of normalize data\n",
    "    \"\"\"\n",
    "    # TODO: Implement Function\n",
    "    return np.array((x/255.0))\n",
    "\n",
    "\n",
    "\"\"\"\n",
    "DON'T MODIFY ANYTHING IN THIS CELL THAT IS BELOW THIS LINE\n",
    "\"\"\"\n",
    "tests.test_normalize(normalize)"
   ]
  },
  {
   "cell_type": "markdown",
   "metadata": {
    "deletable": true,
    "editable": true
   },
   "source": [
    "### One-hot encode\n",
    "Just like the previous code cell, you'll be implementing a function for preprocessing.  This time, you'll implement the `one_hot_encode` function. The input, `x`, are a list of labels.  Implement the function to return the list of labels as One-Hot encoded Numpy array.  The possible values for labels are 0 to 9. The one-hot encoding function should return the same encoding for each value between each call to `one_hot_encode`.  Make sure to save the map of encodings outside the function.\n",
    "\n",
    "Hint: Don't reinvent the wheel."
   ]
  },
  {
   "cell_type": "code",
   "execution_count": 4,
   "metadata": {
    "collapsed": false,
    "deletable": true,
    "editable": true
   },
   "outputs": [
    {
     "name": "stdout",
     "output_type": "stream",
     "text": [
      "Tests Passed\n"
     ]
    }
   ],
   "source": [
    "from sklearn import preprocessing\n",
    "\n",
    "def one_hot_encode(x):\n",
    "    \"\"\"\n",
    "    One hot encode a list of sample labels. Return a one-hot encoded vector for each label.\n",
    "    : x: List of sample Labels\n",
    "    : return: Numpy array of one-hot encoded labels\n",
    "    \"\"\"\n",
    "    # TODO: Implement Function\n",
    "    lb = preprocessing.LabelBinarizer()\n",
    "    lb.fit(x)\n",
    "    lb.classes_ = [0,1,2,3,4,5,6,7,8,9]\n",
    "    return lb.transform(x)\n",
    "\n",
    "\n",
    "\"\"\"\n",
    "DON'T MODIFY ANYTHING IN THIS CELL THAT IS BELOW THIS LINE\n",
    "\"\"\"\n",
    "tests.test_one_hot_encode(one_hot_encode)"
   ]
  },
  {
   "cell_type": "markdown",
   "metadata": {
    "deletable": true,
    "editable": true
   },
   "source": [
    "### Randomize Data\n",
    "As you saw from exploring the data above, the order of the samples are randomized.  It doesn't hurt to randomize it again, but you don't need to for this dataset."
   ]
  },
  {
   "cell_type": "markdown",
   "metadata": {
    "deletable": true,
    "editable": true
   },
   "source": [
    "## Preprocess all the data and save it\n",
    "Running the code cell below will preprocess all the CIFAR-10 data and save it to file. The code below also uses 10% of the training data for validation."
   ]
  },
  {
   "cell_type": "code",
   "execution_count": 5,
   "metadata": {
    "collapsed": false,
    "deletable": true,
    "editable": true
   },
   "outputs": [],
   "source": [
    "\"\"\"\n",
    "DON'T MODIFY ANYTHING IN THIS CELL\n",
    "\"\"\"\n",
    "# Preprocess Training, Validation, and Testing Data\n",
    "helper.preprocess_and_save_data(cifar10_dataset_folder_path, normalize, one_hot_encode)"
   ]
  },
  {
   "cell_type": "markdown",
   "metadata": {
    "deletable": true,
    "editable": true
   },
   "source": [
    "# Check Point\n",
    "This is your first checkpoint.  If you ever decide to come back to this notebook or have to restart the notebook, you can start from here.  The preprocessed data has been saved to disk."
   ]
  },
  {
   "cell_type": "code",
   "execution_count": 6,
   "metadata": {
    "collapsed": true,
    "deletable": true,
    "editable": true
   },
   "outputs": [],
   "source": [
    "\"\"\"\n",
    "DON'T MODIFY ANYTHING IN THIS CELL\n",
    "\"\"\"\n",
    "import pickle\n",
    "import problem_unittests as tests\n",
    "import helper\n",
    "\n",
    "# Load the Preprocessed Validation data\n",
    "valid_features, valid_labels = pickle.load(open('preprocess_validation.p', mode='rb'))"
   ]
  },
  {
   "cell_type": "markdown",
   "metadata": {
    "deletable": true,
    "editable": true
   },
   "source": [
    "## Build the network\n",
    "For the neural network, you'll build each layer into a function.  Most of the code you've seen has been outside of functions. To test your code more thoroughly, we require that you put each layer in a function.  This allows us to give you better feedback and test for simple mistakes using our unittests before you submit your project.\n",
    "\n",
    ">**Note:** If you're finding it hard to dedicate enough time for this course each week, we've provided a small shortcut to this part of the project. In the next couple of problems, you'll have the option to use classes from the [TensorFlow Layers](https://www.tensorflow.org/api_docs/python/tf/layers) or [TensorFlow Layers (contrib)](https://www.tensorflow.org/api_guides/python/contrib.layers) packages to build each layer, except the layers you build in the \"Convolutional and Max Pooling Layer\" section.  TF Layers is similar to Keras's and TFLearn's abstraction to layers, so it's easy to pickup.\n",
    "\n",
    ">However, if you would like to get the most out of this course, try to solve all the problems _without_ using anything from the TF Layers packages. You **can** still use classes from other packages that happen to have the same name as ones you find in TF Layers! For example, instead of using the TF Layers version of the `conv2d` class, [tf.layers.conv2d](https://www.tensorflow.org/api_docs/python/tf/layers/conv2d), you would want to use the TF Neural Network version of `conv2d`, [tf.nn.conv2d](https://www.tensorflow.org/api_docs/python/tf/nn/conv2d). \n",
    "\n",
    "Let's begin!\n",
    "\n",
    "### Input\n",
    "The neural network needs to read the image data, one-hot encoded labels, and dropout keep probability. Implement the following functions\n",
    "* Implement `neural_net_image_input`\n",
    " * Return a [TF Placeholder](https://www.tensorflow.org/api_docs/python/tf/placeholder)\n",
    " * Set the shape using `image_shape` with batch size set to `None`.\n",
    " * Name the TensorFlow placeholder \"x\" using the TensorFlow `name` parameter in the [TF Placeholder](https://www.tensorflow.org/api_docs/python/tf/placeholder).\n",
    "* Implement `neural_net_label_input`\n",
    " * Return a [TF Placeholder](https://www.tensorflow.org/api_docs/python/tf/placeholder)\n",
    " * Set the shape using `n_classes` with batch size set to `None`.\n",
    " * Name the TensorFlow placeholder \"y\" using the TensorFlow `name` parameter in the [TF Placeholder](https://www.tensorflow.org/api_docs/python/tf/placeholder).\n",
    "* Implement `neural_net_keep_prob_input`\n",
    " * Return a [TF Placeholder](https://www.tensorflow.org/api_docs/python/tf/placeholder) for dropout keep probability.\n",
    " * Name the TensorFlow placeholder \"keep_prob\" using the TensorFlow `name` parameter in the [TF Placeholder](https://www.tensorflow.org/api_docs/python/tf/placeholder).\n",
    "\n",
    "These names will be used at the end of the project to load your saved model.\n",
    "\n",
    "Note: `None` for shapes in TensorFlow allow for a dynamic size."
   ]
  },
  {
   "cell_type": "code",
   "execution_count": 7,
   "metadata": {
    "collapsed": false,
    "deletable": true,
    "editable": true
   },
   "outputs": [
    {
     "name": "stdout",
     "output_type": "stream",
     "text": [
      "Image Input Tests Passed.\n",
      "Label Input Tests Passed.\n",
      "Keep Prob Tests Passed.\n"
     ]
    }
   ],
   "source": [
    "import tensorflow as tf\n",
    "\n",
    "def neural_net_image_input(image_shape):\n",
    "    \"\"\"\n",
    "    Return a Tensor for a batch of image input\n",
    "    : image_shape: Shape of the images\n",
    "    : return: Tensor for image input.\n",
    "    \"\"\"\n",
    "    # TODO: Implement Function\n",
    "    return tf.placeholder(tf.float32, [None,*image_shape], name='x')\n",
    "\n",
    "\n",
    "def neural_net_label_input(n_classes):\n",
    "    \"\"\"\n",
    "    Return a Tensor for a batch of label input\n",
    "    : n_classes: Number of classes\n",
    "    : return: Tensor for label input.\n",
    "    \"\"\"\n",
    "    # TODO: Implement Function\n",
    "    return tf.placeholder(tf.float32, [None, n_classes], name='y')\n",
    "\n",
    "\n",
    "def neural_net_keep_prob_input():\n",
    "    \"\"\"\n",
    "    Return a Tensor for keep probability\n",
    "    : return: Tensor for keep probability.\n",
    "    \"\"\"\n",
    "    # TODO: Implement Function\n",
    "    return tf.placeholder(tf.float32, name='keep_prob')\n",
    "\n",
    "\n",
    "\"\"\"\n",
    "DON'T MODIFY ANYTHING IN THIS CELL THAT IS BELOW THIS LINE\n",
    "\"\"\"\n",
    "tf.reset_default_graph()\n",
    "tests.test_nn_image_inputs(neural_net_image_input)\n",
    "tests.test_nn_label_inputs(neural_net_label_input)\n",
    "tests.test_nn_keep_prob_inputs(neural_net_keep_prob_input)"
   ]
  },
  {
   "cell_type": "markdown",
   "metadata": {
    "deletable": true,
    "editable": true
   },
   "source": [
    "### Convolution and Max Pooling Layer\n",
    "Convolution layers have a lot of success with images. For this code cell, you should implement the function `conv2d_maxpool` to apply convolution then max pooling:\n",
    "* Create the weight and bias using `conv_ksize`, `conv_num_outputs` and the shape of `x_tensor`.\n",
    "* Apply a convolution to `x_tensor` using weight and `conv_strides`.\n",
    " * We recommend you use same padding, but you're welcome to use any padding.\n",
    "* Add bias\n",
    "* Add a nonlinear activation to the convolution.\n",
    "* Apply Max Pooling using `pool_ksize` and `pool_strides`.\n",
    " * We recommend you use same padding, but you're welcome to use any padding.\n",
    "\n",
    "**Note:** You **can't** use [TensorFlow Layers](https://www.tensorflow.org/api_docs/python/tf/layers) or [TensorFlow Layers (contrib)](https://www.tensorflow.org/api_guides/python/contrib.layers) for **this** layer, but you can still use TensorFlow's [Neural Network](https://www.tensorflow.org/api_docs/python/tf/nn) package. You may still use the shortcut option for all the **other** layers."
   ]
  },
  {
   "cell_type": "code",
   "execution_count": 8,
   "metadata": {
    "collapsed": false,
    "deletable": true,
    "editable": true
   },
   "outputs": [
    {
     "name": "stdout",
     "output_type": "stream",
     "text": [
      "Tests Passed\n"
     ]
    }
   ],
   "source": [
    "def conv2d_maxpool(x_tensor, conv_num_outputs, conv_ksize, conv_strides, pool_ksize, pool_strides):\n",
    "    \"\"\"\n",
    "    Apply convolution then max pooling to x_tensor\n",
    "    :param x_tensor: TensorFlow Tensor\n",
    "    :param conv_num_outputs: Number of outputs for the convolutional layer\n",
    "    :param conv_ksize: kernal size 2-D Tuple for the convolutional layer\n",
    "    :param conv_strides: Stride 2-D Tuple for convolution\n",
    "    :param pool_ksize: kernal size 2-D Tuple for pool\n",
    "    :param pool_strides: Stride 2-D Tuple for pool\n",
    "    : return: A tensor that represents convolution and max pooling of x_tensor\n",
    "    \"\"\"\n",
    "    # TODO: Implement Function\n",
    "    filter_weights_shape = [*conv_ksize, x_tensor.get_shape().as_list()[3], conv_num_outputs]\n",
    "    filter_weights = tf.Variable(tf.truncated_normal(filter_weights_shape, stddev=0.1))\n",
    "    filter_bias = tf.Variable(tf.zeros(conv_num_outputs))\n",
    "    \n",
    "    layer = tf.nn.conv2d(x_tensor, filter_weights, strides=[1,*conv_strides,1], padding='SAME')\n",
    "    layer = tf.nn.bias_add(layer, filter_bias)\n",
    "    layer = tf.nn.relu(layer)\n",
    "    return tf.nn.max_pool(layer, ksize=[1,*pool_ksize, 1], strides=[1,*pool_strides, 1], padding ='SAME')\n",
    "\n",
    "\n",
    "\"\"\"\n",
    "DON'T MODIFY ANYTHING IN THIS CELL THAT IS BELOW THIS LINE\n",
    "\"\"\"\n",
    "tests.test_con_pool(conv2d_maxpool)"
   ]
  },
  {
   "cell_type": "markdown",
   "metadata": {
    "deletable": true,
    "editable": true
   },
   "source": [
    "### Flatten Layer\n",
    "Implement the `flatten` function to change the dimension of `x_tensor` from a 4-D tensor to a 2-D tensor.  The output should be the shape (*Batch Size*, *Flattened Image Size*). Shortcut option: you can use classes from the [TensorFlow Layers](https://www.tensorflow.org/api_docs/python/tf/layers) or [TensorFlow Layers (contrib)](https://www.tensorflow.org/api_guides/python/contrib.layers) packages for this layer. For more of a challenge, only use other TensorFlow packages."
   ]
  },
  {
   "cell_type": "code",
   "execution_count": 9,
   "metadata": {
    "collapsed": false,
    "deletable": true,
    "editable": true
   },
   "outputs": [
    {
     "name": "stdout",
     "output_type": "stream",
     "text": [
      "Tests Passed\n"
     ]
    }
   ],
   "source": [
    "def flatten(x_tensor):\n",
    "    \"\"\"\n",
    "    Flatten x_tensor to (Batch Size, Flattened Image Size)\n",
    "    : x_tensor: A tensor of size (Batch Size, ...), where ... are the image dimensions.\n",
    "    : return: A tensor of size (Batch Size, Flattened Image Size).\n",
    "    \"\"\"\n",
    "    # TODO: Implement Function\n",
    "    shape_list = x_tensor.get_shape().as_list()\n",
    "    shape_value = shape_list[1] * shape_list[2] * shape_list[3]\n",
    "    return tf.reshape(x_tensor, [-1, shape_value])\n",
    "\n",
    "\n",
    "\"\"\"\n",
    "DON'T MODIFY ANYTHING IN THIS CELL THAT IS BELOW THIS LINE\n",
    "\"\"\"\n",
    "tests.test_flatten(flatten)"
   ]
  },
  {
   "cell_type": "markdown",
   "metadata": {
    "deletable": true,
    "editable": true
   },
   "source": [
    "### Fully-Connected Layer\n",
    "Implement the `fully_conn` function to apply a fully connected layer to `x_tensor` with the shape (*Batch Size*, *num_outputs*). Shortcut option: you can use classes from the [TensorFlow Layers](https://www.tensorflow.org/api_docs/python/tf/layers) or [TensorFlow Layers (contrib)](https://www.tensorflow.org/api_guides/python/contrib.layers) packages for this layer. For more of a challenge, only use other TensorFlow packages."
   ]
  },
  {
   "cell_type": "code",
   "execution_count": 10,
   "metadata": {
    "collapsed": false,
    "deletable": true,
    "editable": true
   },
   "outputs": [
    {
     "name": "stdout",
     "output_type": "stream",
     "text": [
      "Tests Passed\n"
     ]
    }
   ],
   "source": [
    "def fully_conn(x_tensor, num_outputs):\n",
    "    \"\"\"\n",
    "    Apply a fully connected layer to x_tensor using weight and bias\n",
    "    : x_tensor: A 2-D tensor where the first dimension is batch size.\n",
    "    : num_outputs: The number of output that the new tensor should be.\n",
    "    : return: A 2-D tensor where the second dimension is num_outputs.\n",
    "    \"\"\"\n",
    "    # TODO: Implement Function\n",
    "    w = tf.Variable(tf.truncated_normal([x_tensor.get_shape().as_list()[1], num_outputs], stddev=0.1))\n",
    "    bias = tf.Variable(tf.zeros([num_outputs]))\n",
    "    fully_conn =  tf.add(tf.matmul(x_tensor, w), bias)\n",
    "    return tf.nn.relu(fully_conn)\n",
    "    \n",
    "\n",
    "\"\"\"\n",
    "DON'T MODIFY ANYTHING IN THIS CELL THAT IS BELOW THIS LINE\n",
    "\"\"\"\n",
    "tests.test_fully_conn(fully_conn)"
   ]
  },
  {
   "cell_type": "markdown",
   "metadata": {
    "deletable": true,
    "editable": true
   },
   "source": [
    "### Output Layer\n",
    "Implement the `output` function to apply a fully connected layer to `x_tensor` with the shape (*Batch Size*, *num_outputs*). Shortcut option: you can use classes from the [TensorFlow Layers](https://www.tensorflow.org/api_docs/python/tf/layers) or [TensorFlow Layers (contrib)](https://www.tensorflow.org/api_guides/python/contrib.layers) packages for this layer. For more of a challenge, only use other TensorFlow packages.\n",
    "\n",
    "**Note:** Activation, softmax, or cross entropy should **not** be applied to this."
   ]
  },
  {
   "cell_type": "code",
   "execution_count": 11,
   "metadata": {
    "collapsed": false,
    "deletable": true,
    "editable": true
   },
   "outputs": [
    {
     "name": "stdout",
     "output_type": "stream",
     "text": [
      "Tests Passed\n"
     ]
    }
   ],
   "source": [
    "def output(x_tensor, num_outputs):\n",
    "    \"\"\"\n",
    "    Apply a output layer to x_tensor using weight and bias\n",
    "    : x_tensor: A 2-D tensor where the first dimension is batch size.\n",
    "    : num_outputs: The number of output that the new tensor should be.\n",
    "    : return: A 2-D tensor where the second dimension is num_outputs.\n",
    "    \"\"\"\n",
    "    # TODO: Implement Function\n",
    "    depth = x_tensor.get_shape().as_list()[1]\n",
    "    weights = tf.Variable(tf.truncated_normal([depth, num_outputs], stddev=0.1))\n",
    "    bias = tf.Variable(tf.zeros(num_outputs))\n",
    "    return tf.add(tf.matmul(x_tensor, weights), bias)\n",
    "\n",
    "\n",
    "\"\"\"\n",
    "DON'T MODIFY ANYTHING IN THIS CELL THAT IS BELOW THIS LINE\n",
    "\"\"\"\n",
    "tests.test_output(output)"
   ]
  },
  {
   "cell_type": "markdown",
   "metadata": {
    "deletable": true,
    "editable": true
   },
   "source": [
    "### Create Convolutional Model\n",
    "Implement the function `conv_net` to create a convolutional neural network model. The function takes in a batch of images, `x`, and outputs logits.  Use the layers you created above to create this model:\n",
    "\n",
    "* Apply 1, 2, or 3 Convolution and Max Pool layers\n",
    "* Apply a Flatten Layer\n",
    "* Apply 1, 2, or 3 Fully Connected Layers\n",
    "* Apply an Output Layer\n",
    "* Return the output\n",
    "* Apply [TensorFlow's Dropout](https://www.tensorflow.org/api_docs/python/tf/nn/dropout) to one or more layers in the model using `keep_prob`. "
   ]
  },
  {
   "cell_type": "code",
   "execution_count": 12,
   "metadata": {
    "collapsed": false,
    "deletable": true,
    "editable": true
   },
   "outputs": [
    {
     "name": "stdout",
     "output_type": "stream",
     "text": [
      "Neural Network Built!\n"
     ]
    }
   ],
   "source": [
    "def conv_net(x, keep_prob):\n",
    "    \"\"\"\n",
    "    Create a convolutional neural network model\n",
    "    : x: Placeholder tensor that holds image data.\n",
    "    : keep_prob: Placeholder tensor that hold dropout keep probability.\n",
    "    : return: Tensor that represents logits\n",
    "    \"\"\"\n",
    "    # TODO: Apply 1, 2, or 3 Convolution and Max Pool layers\n",
    "    #    Play around with different number of outputs, kernel size and stride\n",
    "    # Function Definition from Above:\n",
    "    #    conv2d_maxpool(x_tensor, conv_num_outputs, conv_ksize, conv_strides, pool_ksize, pool_strides)\n",
    "    conv = conv2d_maxpool(x, 32, (5,5), (1,1), (2,2), (2,2))\n",
    "\n",
    "    conv = conv2d_maxpool(conv, 64, (3,3), (1,1), (2,2), (2,2))\n",
    "\n",
    "    \n",
    "    # TODO: Apply a Flatten Layer\n",
    "    # Function Definition from Above:\n",
    "    #   flatten(x_tensor)\n",
    "    flat = flatten(conv)\n",
    "    \n",
    "\n",
    "    # TODO: Apply 1, 2, or 3 Fully Connected Layers\n",
    "    #    Play around with different number of outputs\n",
    "    # Function Definition from Above:\n",
    "    #   fully_conn(x_tensor, num_outputs)\n",
    "    \n",
    "    fc = fully_conn(flat, 48)\n",
    "    \n",
    "    fc = tf.nn.dropout(fc, keep_prob)\n",
    "    \n",
    "    # TODO: Apply an Output Layer\n",
    "    #    Set this to the number of classes\n",
    "    # Function Definition from Above:\n",
    "    #   output(x_tensor, num_outputs)\n",
    "    \n",
    "    # TODO: return output\n",
    "    return output(fc, 10)\n",
    "\n",
    "\n",
    "\"\"\"\n",
    "DON'T MODIFY ANYTHING IN THIS CELL THAT IS BELOW THIS LINE\n",
    "\"\"\"\n",
    "\n",
    "##############################\n",
    "## Build the Neural Network ##\n",
    "##############################\n",
    "\n",
    "# Remove previous weights, bias, inputs, etc..\n",
    "tf.reset_default_graph()\n",
    "\n",
    "# Inputs\n",
    "x = neural_net_image_input((32, 32, 3))\n",
    "y = neural_net_label_input(10)\n",
    "keep_prob = neural_net_keep_prob_input()\n",
    "\n",
    "# Model\n",
    "logits = conv_net(x, keep_prob)\n",
    "\n",
    "# Name logits Tensor, so that is can be loaded from disk after training\n",
    "logits = tf.identity(logits, name='logits')\n",
    "\n",
    "# Loss and Optimizer\n",
    "cost = tf.reduce_mean(tf.nn.softmax_cross_entropy_with_logits(logits=logits, labels=y))\n",
    "optimizer = tf.train.AdamOptimizer().minimize(cost)\n",
    "\n",
    "# Accuracy\n",
    "correct_pred = tf.equal(tf.argmax(logits, 1), tf.argmax(y, 1))\n",
    "accuracy = tf.reduce_mean(tf.cast(correct_pred, tf.float32), name='accuracy')\n",
    "\n",
    "tests.test_conv_net(conv_net)"
   ]
  },
  {
   "cell_type": "markdown",
   "metadata": {
    "deletable": true,
    "editable": true
   },
   "source": [
    "## Train the Neural Network\n",
    "### Single Optimization\n",
    "Implement the function `train_neural_network` to do a single optimization.  The optimization should use `optimizer` to optimize in `session` with a `feed_dict` of the following:\n",
    "* `x` for image input\n",
    "* `y` for labels\n",
    "* `keep_prob` for keep probability for dropout\n",
    "\n",
    "This function will be called for each batch, so `tf.global_variables_initializer()` has already been called.\n",
    "\n",
    "Note: Nothing needs to be returned. This function is only optimizing the neural network."
   ]
  },
  {
   "cell_type": "code",
   "execution_count": 13,
   "metadata": {
    "collapsed": false,
    "deletable": true,
    "editable": true
   },
   "outputs": [
    {
     "name": "stdout",
     "output_type": "stream",
     "text": [
      "Tests Passed\n"
     ]
    }
   ],
   "source": [
    "def train_neural_network(session, optimizer, keep_probability, feature_batch, label_batch):\n",
    "    \"\"\"\n",
    "    Optimize the session on a batch of images and labels\n",
    "    : session: Current TensorFlow session\n",
    "    : optimizer: TensorFlow optimizer function\n",
    "    : keep_probability: keep probability\n",
    "    : feature_batch: Batch of Numpy image data\n",
    "    : label_batch: Batch of Numpy label data\n",
    "    \"\"\"\n",
    "    # TODO: Implement Function\n",
    "    session.run(optimizer, feed_dict={x:feature_batch, y:label_batch, keep_prob: keep_probability})\n",
    "\n",
    "\n",
    "\"\"\"\n",
    "DON'T MODIFY ANYTHING IN THIS CELL THAT IS BELOW THIS LINE\n",
    "\"\"\"\n",
    "tests.test_train_nn(train_neural_network)"
   ]
  },
  {
   "cell_type": "markdown",
   "metadata": {
    "deletable": true,
    "editable": true
   },
   "source": [
    "### Show Stats\n",
    "Implement the function `print_stats` to print loss and validation accuracy.  Use the global variables `valid_features` and `valid_labels` to calculate validation accuracy.  Use a keep probability of `1.0` to calculate the loss and validation accuracy."
   ]
  },
  {
   "cell_type": "code",
   "execution_count": 15,
   "metadata": {
    "collapsed": false,
    "deletable": true,
    "editable": true
   },
   "outputs": [],
   "source": [
    "def print_stats(session, feature_batch, label_batch, cost, accuracy):\n",
    "    \"\"\"\n",
    "    Print information about loss and validation accuracy\n",
    "    : session: Current TensorFlow session\n",
    "    : feature_batch: Batch of Numpy image data\n",
    "    : label_batch: Batch of Numpy label data\n",
    "    : cost: TensorFlow cost function\n",
    "    : accuracy: TensorFlow accuracy function\n",
    "    \"\"\"\n",
    "    # TODO: Implement Function\n",
    "    loss = session.run(cost, feed_dict={x:feature_batch, y:label_batch, keep_prob: 1.})\n",
    "    acc = session.run(accuracy, feed_dict={x:valid_features, y:valid_labels, keep_prob: 1.})\n",
    "    print('Loss: {:>10.4f} Accuracy: {:.6f}'.format(loss,acc))\n",
    "    "
   ]
  },
  {
   "cell_type": "markdown",
   "metadata": {
    "deletable": true,
    "editable": true
   },
   "source": [
    "### Hyperparameters\n",
    "Tune the following parameters:\n",
    "* Set `epochs` to the number of iterations until the network stops learning or start overfitting\n",
    "* Set `batch_size` to the highest number that your machine has memory for.  Most people set them to common sizes of memory:\n",
    " * 64\n",
    " * 128\n",
    " * 256\n",
    " * ...\n",
    "* Set `keep_probability` to the probability of keeping a node using dropout"
   ]
  },
  {
   "cell_type": "code",
   "execution_count": 21,
   "metadata": {
    "collapsed": true,
    "deletable": true,
    "editable": true
   },
   "outputs": [],
   "source": [
    "# TODO: Tune Parameters\n",
    "epochs = 90\n",
    "batch_size = 256\n",
    "keep_probability = 0.5"
   ]
  },
  {
   "cell_type": "markdown",
   "metadata": {
    "deletable": true,
    "editable": true
   },
   "source": [
    "### Train on a Single CIFAR-10 Batch\n",
    "Instead of training the neural network on all the CIFAR-10 batches of data, let's use a single batch. This should save time while you iterate on the model to get a better accuracy.  Once the final validation accuracy is 50% or greater, run the model on all the data in the next section."
   ]
  },
  {
   "cell_type": "code",
   "execution_count": 22,
   "metadata": {
    "collapsed": false,
    "deletable": true,
    "editable": true
   },
   "outputs": [
    {
     "name": "stdout",
     "output_type": "stream",
     "text": [
      "Checking the Training on a Single Batch...\n",
      "Epoch  1, CIFAR-10 Batch 1:  Loss:     2.2193 Accuracy: 0.220800\n",
      "Epoch  2, CIFAR-10 Batch 1:  Loss:     2.0701 Accuracy: 0.296800\n",
      "Epoch  3, CIFAR-10 Batch 1:  Loss:     1.8914 Accuracy: 0.379200\n",
      "Epoch  4, CIFAR-10 Batch 1:  Loss:     1.7587 Accuracy: 0.400600\n",
      "Epoch  5, CIFAR-10 Batch 1:  Loss:     1.6399 Accuracy: 0.407000\n",
      "Epoch  6, CIFAR-10 Batch 1:  Loss:     1.6091 Accuracy: 0.421600\n",
      "Epoch  7, CIFAR-10 Batch 1:  Loss:     1.4350 Accuracy: 0.442800\n",
      "Epoch  8, CIFAR-10 Batch 1:  Loss:     1.3991 Accuracy: 0.466000\n",
      "Epoch  9, CIFAR-10 Batch 1:  Loss:     1.2942 Accuracy: 0.473800\n",
      "Epoch 10, CIFAR-10 Batch 1:  Loss:     1.2146 Accuracy: 0.481200\n",
      "Epoch 11, CIFAR-10 Batch 1:  Loss:     1.1937 Accuracy: 0.474400\n",
      "Epoch 12, CIFAR-10 Batch 1:  Loss:     1.1138 Accuracy: 0.492000\n",
      "Epoch 13, CIFAR-10 Batch 1:  Loss:     1.1165 Accuracy: 0.475800\n",
      "Epoch 14, CIFAR-10 Batch 1:  Loss:     1.0111 Accuracy: 0.497400\n",
      "Epoch 15, CIFAR-10 Batch 1:  Loss:     0.9527 Accuracy: 0.513200\n",
      "Epoch 16, CIFAR-10 Batch 1:  Loss:     1.0237 Accuracy: 0.483200\n",
      "Epoch 17, CIFAR-10 Batch 1:  Loss:     0.9583 Accuracy: 0.497800\n",
      "Epoch 18, CIFAR-10 Batch 1:  Loss:     0.8592 Accuracy: 0.524400\n",
      "Epoch 19, CIFAR-10 Batch 1:  Loss:     0.8086 Accuracy: 0.540400\n",
      "Epoch 20, CIFAR-10 Batch 1:  Loss:     0.8368 Accuracy: 0.516600\n",
      "Epoch 21, CIFAR-10 Batch 1:  Loss:     0.7685 Accuracy: 0.536400\n",
      "Epoch 22, CIFAR-10 Batch 1:  Loss:     0.7588 Accuracy: 0.522800\n",
      "Epoch 23, CIFAR-10 Batch 1:  Loss:     0.7139 Accuracy: 0.536600\n",
      "Epoch 24, CIFAR-10 Batch 1:  Loss:     0.6534 Accuracy: 0.552000\n",
      "Epoch 25, CIFAR-10 Batch 1:  Loss:     0.6396 Accuracy: 0.542200\n",
      "Epoch 26, CIFAR-10 Batch 1:  Loss:     0.6130 Accuracy: 0.543600\n",
      "Epoch 27, CIFAR-10 Batch 1:  Loss:     0.5899 Accuracy: 0.559400\n",
      "Epoch 28, CIFAR-10 Batch 1:  Loss:     0.5829 Accuracy: 0.552800\n",
      "Epoch 29, CIFAR-10 Batch 1:  Loss:     0.5331 Accuracy: 0.565000\n",
      "Epoch 30, CIFAR-10 Batch 1:  Loss:     0.4993 Accuracy: 0.562400\n",
      "Epoch 31, CIFAR-10 Batch 1:  Loss:     0.4729 Accuracy: 0.558400\n",
      "Epoch 32, CIFAR-10 Batch 1:  Loss:     0.4786 Accuracy: 0.546800\n",
      "Epoch 33, CIFAR-10 Batch 1:  Loss:     0.4798 Accuracy: 0.559200\n",
      "Epoch 34, CIFAR-10 Batch 1:  Loss:     0.4282 Accuracy: 0.553800\n",
      "Epoch 35, CIFAR-10 Batch 1:  Loss:     0.3947 Accuracy: 0.565800\n",
      "Epoch 36, CIFAR-10 Batch 1:  Loss:     0.3925 Accuracy: 0.563400\n",
      "Epoch 37, CIFAR-10 Batch 1:  Loss:     0.3715 Accuracy: 0.575400\n",
      "Epoch 38, CIFAR-10 Batch 1:  Loss:     0.3537 Accuracy: 0.558000\n",
      "Epoch 39, CIFAR-10 Batch 1:  Loss:     0.3364 Accuracy: 0.585600\n",
      "Epoch 40, CIFAR-10 Batch 1:  Loss:     0.3225 Accuracy: 0.580800\n",
      "Epoch 41, CIFAR-10 Batch 1:  Loss:     0.2932 Accuracy: 0.585800\n",
      "Epoch 42, CIFAR-10 Batch 1:  Loss:     0.2807 Accuracy: 0.584400\n",
      "Epoch 43, CIFAR-10 Batch 1:  Loss:     0.2441 Accuracy: 0.591200\n",
      "Epoch 44, CIFAR-10 Batch 1:  Loss:     0.2735 Accuracy: 0.582600\n",
      "Epoch 45, CIFAR-10 Batch 1:  Loss:     0.2448 Accuracy: 0.587200\n",
      "Epoch 46, CIFAR-10 Batch 1:  Loss:     0.2324 Accuracy: 0.582200\n",
      "Epoch 47, CIFAR-10 Batch 1:  Loss:     0.2313 Accuracy: 0.595000\n",
      "Epoch 48, CIFAR-10 Batch 1:  Loss:     0.2392 Accuracy: 0.589600\n",
      "Epoch 49, CIFAR-10 Batch 1:  Loss:     0.2009 Accuracy: 0.587400\n",
      "Epoch 50, CIFAR-10 Batch 1:  Loss:     0.2108 Accuracy: 0.584400\n",
      "Epoch 51, CIFAR-10 Batch 1:  Loss:     0.1733 Accuracy: 0.587200\n",
      "Epoch 52, CIFAR-10 Batch 1:  Loss:     0.1936 Accuracy: 0.586200\n",
      "Epoch 53, CIFAR-10 Batch 1:  Loss:     0.1766 Accuracy: 0.572600\n",
      "Epoch 54, CIFAR-10 Batch 1:  Loss:     0.1576 Accuracy: 0.583000\n",
      "Epoch 55, CIFAR-10 Batch 1:  Loss:     0.1706 Accuracy: 0.589000\n",
      "Epoch 56, CIFAR-10 Batch 1:  Loss:     0.1612 Accuracy: 0.582600\n",
      "Epoch 57, CIFAR-10 Batch 1:  Loss:     0.1571 Accuracy: 0.592400\n",
      "Epoch 58, CIFAR-10 Batch 1:  Loss:     0.1482 Accuracy: 0.591600\n",
      "Epoch 59, CIFAR-10 Batch 1:  Loss:     0.1344 Accuracy: 0.589200\n",
      "Epoch 60, CIFAR-10 Batch 1:  Loss:     0.1308 Accuracy: 0.580400\n",
      "Epoch 61, CIFAR-10 Batch 1:  Loss:     0.1368 Accuracy: 0.579400\n",
      "Epoch 62, CIFAR-10 Batch 1:  Loss:     0.1188 Accuracy: 0.588600\n",
      "Epoch 63, CIFAR-10 Batch 1:  Loss:     0.1164 Accuracy: 0.585200\n",
      "Epoch 64, CIFAR-10 Batch 1:  Loss:     0.1261 Accuracy: 0.576800\n",
      "Epoch 65, CIFAR-10 Batch 1:  Loss:     0.1278 Accuracy: 0.588000\n",
      "Epoch 66, CIFAR-10 Batch 1:  Loss:     0.1006 Accuracy: 0.592600\n",
      "Epoch 67, CIFAR-10 Batch 1:  Loss:     0.1225 Accuracy: 0.590000\n",
      "Epoch 68, CIFAR-10 Batch 1:  Loss:     0.0978 Accuracy: 0.591000\n",
      "Epoch 69, CIFAR-10 Batch 1:  Loss:     0.0928 Accuracy: 0.591800\n",
      "Epoch 70, CIFAR-10 Batch 1:  Loss:     0.0832 Accuracy: 0.589400\n",
      "Epoch 71, CIFAR-10 Batch 1:  Loss:     0.0735 Accuracy: 0.598400\n",
      "Epoch 72, CIFAR-10 Batch 1:  Loss:     0.0664 Accuracy: 0.592200\n",
      "Epoch 73, CIFAR-10 Batch 1:  Loss:     0.0765 Accuracy: 0.586000\n",
      "Epoch 74, CIFAR-10 Batch 1:  Loss:     0.0698 Accuracy: 0.598200\n",
      "Epoch 75, CIFAR-10 Batch 1:  Loss:     0.0651 Accuracy: 0.591600\n",
      "Epoch 76, CIFAR-10 Batch 1:  Loss:     0.0628 Accuracy: 0.597000\n",
      "Epoch 77, CIFAR-10 Batch 1:  Loss:     0.0548 Accuracy: 0.584200\n",
      "Epoch 78, CIFAR-10 Batch 1:  Loss:     0.0546 Accuracy: 0.582600\n",
      "Epoch 79, CIFAR-10 Batch 1:  Loss:     0.0519 Accuracy: 0.589800\n",
      "Epoch 80, CIFAR-10 Batch 1:  Loss:     0.0510 Accuracy: 0.589800\n",
      "Epoch 81, CIFAR-10 Batch 1:  Loss:     0.0664 Accuracy: 0.596400\n",
      "Epoch 82, CIFAR-10 Batch 1:  Loss:     0.0486 Accuracy: 0.594000\n",
      "Epoch 83, CIFAR-10 Batch 1:  Loss:     0.0538 Accuracy: 0.598600\n",
      "Epoch 84, CIFAR-10 Batch 1:  Loss:     0.0512 Accuracy: 0.594800\n",
      "Epoch 85, CIFAR-10 Batch 1:  Loss:     0.0407 Accuracy: 0.586600\n",
      "Epoch 86, CIFAR-10 Batch 1:  Loss:     0.0459 Accuracy: 0.589000\n",
      "Epoch 87, CIFAR-10 Batch 1:  Loss:     0.0400 Accuracy: 0.590800\n",
      "Epoch 88, CIFAR-10 Batch 1:  Loss:     0.0358 Accuracy: 0.585400\n",
      "Epoch 89, CIFAR-10 Batch 1:  Loss:     0.0354 Accuracy: 0.588000\n",
      "Epoch 90, CIFAR-10 Batch 1:  Loss:     0.0324 Accuracy: 0.597000\n"
     ]
    }
   ],
   "source": [
    "\"\"\"\n",
    "DON'T MODIFY ANYTHING IN THIS CELL\n",
    "\"\"\"\n",
    "print('Checking the Training on a Single Batch...')\n",
    "with tf.Session() as sess:\n",
    "    # Initializing the variables\n",
    "    sess.run(tf.global_variables_initializer())\n",
    "    \n",
    "    # Training cycle\n",
    "    for epoch in range(epochs):\n",
    "        batch_i = 1\n",
    "        for batch_features, batch_labels in helper.load_preprocess_training_batch(batch_i, batch_size):\n",
    "            train_neural_network(sess, optimizer, keep_probability, batch_features, batch_labels)\n",
    "        print('Epoch {:>2}, CIFAR-10 Batch {}:  '.format(epoch + 1, batch_i), end='')\n",
    "        print_stats(sess, batch_features, batch_labels, cost, accuracy)"
   ]
  },
  {
   "cell_type": "markdown",
   "metadata": {
    "deletable": true,
    "editable": true
   },
   "source": [
    "### Fully Train the Model\n",
    "Now that you got a good accuracy with a single CIFAR-10 batch, try it with all five batches."
   ]
  },
  {
   "cell_type": "code",
   "execution_count": 23,
   "metadata": {
    "collapsed": false,
    "deletable": true,
    "editable": true
   },
   "outputs": [
    {
     "name": "stdout",
     "output_type": "stream",
     "text": [
      "Training...\n",
      "Epoch  1, CIFAR-10 Batch 1:  Loss:     2.2273 Accuracy: 0.268400\n",
      "Epoch  1, CIFAR-10 Batch 2:  Loss:     2.0043 Accuracy: 0.287600\n",
      "Epoch  1, CIFAR-10 Batch 3:  Loss:     1.6570 Accuracy: 0.360800\n",
      "Epoch  1, CIFAR-10 Batch 4:  Loss:     1.6763 Accuracy: 0.394000\n",
      "Epoch  1, CIFAR-10 Batch 5:  Loss:     1.6644 Accuracy: 0.415200\n",
      "Epoch  2, CIFAR-10 Batch 1:  Loss:     1.8648 Accuracy: 0.416400\n",
      "Epoch  2, CIFAR-10 Batch 2:  Loss:     1.6400 Accuracy: 0.438800\n",
      "Epoch  2, CIFAR-10 Batch 3:  Loss:     1.4479 Accuracy: 0.446000\n",
      "Epoch  2, CIFAR-10 Batch 4:  Loss:     1.5910 Accuracy: 0.450400\n",
      "Epoch  2, CIFAR-10 Batch 5:  Loss:     1.4859 Accuracy: 0.469000\n",
      "Epoch  3, CIFAR-10 Batch 1:  Loss:     1.6427 Accuracy: 0.489000\n",
      "Epoch  3, CIFAR-10 Batch 2:  Loss:     1.5020 Accuracy: 0.443600\n",
      "Epoch  3, CIFAR-10 Batch 3:  Loss:     1.2354 Accuracy: 0.487600\n",
      "Epoch  3, CIFAR-10 Batch 4:  Loss:     1.4245 Accuracy: 0.483800\n",
      "Epoch  3, CIFAR-10 Batch 5:  Loss:     1.3792 Accuracy: 0.492800\n",
      "Epoch  4, CIFAR-10 Batch 1:  Loss:     1.4405 Accuracy: 0.510200\n",
      "Epoch  4, CIFAR-10 Batch 2:  Loss:     1.3084 Accuracy: 0.509200\n",
      "Epoch  4, CIFAR-10 Batch 3:  Loss:     1.1671 Accuracy: 0.514600\n",
      "Epoch  4, CIFAR-10 Batch 4:  Loss:     1.3399 Accuracy: 0.505600\n",
      "Epoch  4, CIFAR-10 Batch 5:  Loss:     1.2797 Accuracy: 0.522600\n",
      "Epoch  5, CIFAR-10 Batch 1:  Loss:     1.3504 Accuracy: 0.530000\n",
      "Epoch  5, CIFAR-10 Batch 2:  Loss:     1.1731 Accuracy: 0.517800\n",
      "Epoch  5, CIFAR-10 Batch 3:  Loss:     1.0504 Accuracy: 0.536800\n",
      "Epoch  5, CIFAR-10 Batch 4:  Loss:     1.2682 Accuracy: 0.518000\n",
      "Epoch  5, CIFAR-10 Batch 5:  Loss:     1.1974 Accuracy: 0.543200\n",
      "Epoch  6, CIFAR-10 Batch 1:  Loss:     1.2670 Accuracy: 0.544600\n",
      "Epoch  6, CIFAR-10 Batch 2:  Loss:     1.1270 Accuracy: 0.553400\n",
      "Epoch  6, CIFAR-10 Batch 3:  Loss:     0.9702 Accuracy: 0.553400\n",
      "Epoch  6, CIFAR-10 Batch 4:  Loss:     1.1999 Accuracy: 0.553600\n",
      "Epoch  6, CIFAR-10 Batch 5:  Loss:     1.0607 Accuracy: 0.558800\n",
      "Epoch  7, CIFAR-10 Batch 1:  Loss:     1.1535 Accuracy: 0.555800\n",
      "Epoch  7, CIFAR-10 Batch 2:  Loss:     0.9837 Accuracy: 0.559200\n",
      "Epoch  7, CIFAR-10 Batch 3:  Loss:     0.8933 Accuracy: 0.567200\n",
      "Epoch  7, CIFAR-10 Batch 4:  Loss:     1.1103 Accuracy: 0.565800\n",
      "Epoch  7, CIFAR-10 Batch 5:  Loss:     1.0079 Accuracy: 0.572600\n",
      "Epoch  8, CIFAR-10 Batch 1:  Loss:     1.0668 Accuracy: 0.572800\n",
      "Epoch  8, CIFAR-10 Batch 2:  Loss:     0.9558 Accuracy: 0.558400\n",
      "Epoch  8, CIFAR-10 Batch 3:  Loss:     0.8564 Accuracy: 0.572600\n",
      "Epoch  8, CIFAR-10 Batch 4:  Loss:     1.0353 Accuracy: 0.577800\n",
      "Epoch  8, CIFAR-10 Batch 5:  Loss:     0.9645 Accuracy: 0.581600\n",
      "Epoch  9, CIFAR-10 Batch 1:  Loss:     1.0293 Accuracy: 0.582000\n",
      "Epoch  9, CIFAR-10 Batch 2:  Loss:     0.8915 Accuracy: 0.573400\n",
      "Epoch  9, CIFAR-10 Batch 3:  Loss:     0.7360 Accuracy: 0.586400\n",
      "Epoch  9, CIFAR-10 Batch 4:  Loss:     0.9700 Accuracy: 0.586200\n",
      "Epoch  9, CIFAR-10 Batch 5:  Loss:     0.9259 Accuracy: 0.588200\n",
      "Epoch 10, CIFAR-10 Batch 1:  Loss:     0.9848 Accuracy: 0.587200\n",
      "Epoch 10, CIFAR-10 Batch 2:  Loss:     0.8539 Accuracy: 0.594800\n",
      "Epoch 10, CIFAR-10 Batch 3:  Loss:     0.7367 Accuracy: 0.590000\n",
      "Epoch 10, CIFAR-10 Batch 4:  Loss:     0.9222 Accuracy: 0.593800\n",
      "Epoch 10, CIFAR-10 Batch 5:  Loss:     0.8542 Accuracy: 0.602200\n",
      "Epoch 11, CIFAR-10 Batch 1:  Loss:     0.9451 Accuracy: 0.606000\n",
      "Epoch 11, CIFAR-10 Batch 2:  Loss:     0.7795 Accuracy: 0.587800\n",
      "Epoch 11, CIFAR-10 Batch 3:  Loss:     0.6846 Accuracy: 0.599200\n",
      "Epoch 11, CIFAR-10 Batch 4:  Loss:     0.8990 Accuracy: 0.602400\n",
      "Epoch 11, CIFAR-10 Batch 5:  Loss:     0.7879 Accuracy: 0.610400\n",
      "Epoch 12, CIFAR-10 Batch 1:  Loss:     0.8309 Accuracy: 0.598400\n",
      "Epoch 12, CIFAR-10 Batch 2:  Loss:     0.7330 Accuracy: 0.614800\n",
      "Epoch 12, CIFAR-10 Batch 3:  Loss:     0.6107 Accuracy: 0.602200\n",
      "Epoch 12, CIFAR-10 Batch 4:  Loss:     0.7840 Accuracy: 0.623200\n",
      "Epoch 12, CIFAR-10 Batch 5:  Loss:     0.7651 Accuracy: 0.621400\n",
      "Epoch 13, CIFAR-10 Batch 1:  Loss:     0.8035 Accuracy: 0.618400\n",
      "Epoch 13, CIFAR-10 Batch 2:  Loss:     0.6633 Accuracy: 0.621800\n",
      "Epoch 13, CIFAR-10 Batch 3:  Loss:     0.5916 Accuracy: 0.607400\n",
      "Epoch 13, CIFAR-10 Batch 4:  Loss:     0.7633 Accuracy: 0.622600\n",
      "Epoch 13, CIFAR-10 Batch 5:  Loss:     0.6975 Accuracy: 0.625800\n",
      "Epoch 14, CIFAR-10 Batch 1:  Loss:     0.7822 Accuracy: 0.610800\n",
      "Epoch 14, CIFAR-10 Batch 2:  Loss:     0.6547 Accuracy: 0.629400\n",
      "Epoch 14, CIFAR-10 Batch 3:  Loss:     0.5286 Accuracy: 0.620200\n",
      "Epoch 14, CIFAR-10 Batch 4:  Loss:     0.7308 Accuracy: 0.633400\n",
      "Epoch 14, CIFAR-10 Batch 5:  Loss:     0.6419 Accuracy: 0.632200\n",
      "Epoch 15, CIFAR-10 Batch 1:  Loss:     0.7013 Accuracy: 0.628800\n",
      "Epoch 15, CIFAR-10 Batch 2:  Loss:     0.6545 Accuracy: 0.638400\n",
      "Epoch 15, CIFAR-10 Batch 3:  Loss:     0.4959 Accuracy: 0.636800\n",
      "Epoch 15, CIFAR-10 Batch 4:  Loss:     0.6735 Accuracy: 0.639000\n",
      "Epoch 15, CIFAR-10 Batch 5:  Loss:     0.6023 Accuracy: 0.642400\n",
      "Epoch 16, CIFAR-10 Batch 1:  Loss:     0.6918 Accuracy: 0.642800\n",
      "Epoch 16, CIFAR-10 Batch 2:  Loss:     0.5833 Accuracy: 0.646200\n",
      "Epoch 16, CIFAR-10 Batch 3:  Loss:     0.4623 Accuracy: 0.631600\n",
      "Epoch 16, CIFAR-10 Batch 4:  Loss:     0.6543 Accuracy: 0.645200\n",
      "Epoch 16, CIFAR-10 Batch 5:  Loss:     0.5334 Accuracy: 0.650000\n",
      "Epoch 17, CIFAR-10 Batch 1:  Loss:     0.6554 Accuracy: 0.634400\n",
      "Epoch 17, CIFAR-10 Batch 2:  Loss:     0.5293 Accuracy: 0.650800\n",
      "Epoch 17, CIFAR-10 Batch 3:  Loss:     0.4371 Accuracy: 0.634000\n",
      "Epoch 17, CIFAR-10 Batch 4:  Loss:     0.6140 Accuracy: 0.637200\n",
      "Epoch 17, CIFAR-10 Batch 5:  Loss:     0.5067 Accuracy: 0.652800\n",
      "Epoch 18, CIFAR-10 Batch 1:  Loss:     0.6288 Accuracy: 0.651800\n",
      "Epoch 18, CIFAR-10 Batch 2:  Loss:     0.5506 Accuracy: 0.643800\n",
      "Epoch 18, CIFAR-10 Batch 3:  Loss:     0.4088 Accuracy: 0.639200\n",
      "Epoch 18, CIFAR-10 Batch 4:  Loss:     0.6202 Accuracy: 0.650600\n",
      "Epoch 18, CIFAR-10 Batch 5:  Loss:     0.4854 Accuracy: 0.655800\n",
      "Epoch 19, CIFAR-10 Batch 1:  Loss:     0.6050 Accuracy: 0.654400\n",
      "Epoch 19, CIFAR-10 Batch 2:  Loss:     0.5052 Accuracy: 0.658200\n",
      "Epoch 19, CIFAR-10 Batch 3:  Loss:     0.4059 Accuracy: 0.648200\n",
      "Epoch 19, CIFAR-10 Batch 4:  Loss:     0.5761 Accuracy: 0.654000\n",
      "Epoch 19, CIFAR-10 Batch 5:  Loss:     0.4906 Accuracy: 0.656800\n",
      "Epoch 20, CIFAR-10 Batch 1:  Loss:     0.5471 Accuracy: 0.648400\n",
      "Epoch 20, CIFAR-10 Batch 2:  Loss:     0.4821 Accuracy: 0.653200\n",
      "Epoch 20, CIFAR-10 Batch 3:  Loss:     0.3797 Accuracy: 0.656800\n",
      "Epoch 20, CIFAR-10 Batch 4:  Loss:     0.5438 Accuracy: 0.656000\n",
      "Epoch 20, CIFAR-10 Batch 5:  Loss:     0.4306 Accuracy: 0.662400\n",
      "Epoch 21, CIFAR-10 Batch 1:  Loss:     0.5397 Accuracy: 0.646000\n",
      "Epoch 21, CIFAR-10 Batch 2:  Loss:     0.4953 Accuracy: 0.657200\n",
      "Epoch 21, CIFAR-10 Batch 3:  Loss:     0.3600 Accuracy: 0.650800\n",
      "Epoch 21, CIFAR-10 Batch 4:  Loss:     0.5401 Accuracy: 0.665400\n",
      "Epoch 21, CIFAR-10 Batch 5:  Loss:     0.4262 Accuracy: 0.653400\n",
      "Epoch 22, CIFAR-10 Batch 1:  Loss:     0.4982 Accuracy: 0.658800\n",
      "Epoch 22, CIFAR-10 Batch 2:  Loss:     0.4757 Accuracy: 0.665000\n",
      "Epoch 22, CIFAR-10 Batch 3:  Loss:     0.2708 Accuracy: 0.646600\n",
      "Epoch 22, CIFAR-10 Batch 4:  Loss:     0.5101 Accuracy: 0.672800\n",
      "Epoch 22, CIFAR-10 Batch 5:  Loss:     0.4165 Accuracy: 0.668200\n",
      "Epoch 23, CIFAR-10 Batch 1:  Loss:     0.4656 Accuracy: 0.659000\n",
      "Epoch 23, CIFAR-10 Batch 2:  Loss:     0.4518 Accuracy: 0.664200\n",
      "Epoch 23, CIFAR-10 Batch 3:  Loss:     0.2999 Accuracy: 0.658400\n",
      "Epoch 23, CIFAR-10 Batch 4:  Loss:     0.4991 Accuracy: 0.666400\n",
      "Epoch 23, CIFAR-10 Batch 5:  Loss:     0.4203 Accuracy: 0.666600\n",
      "Epoch 24, CIFAR-10 Batch 1:  Loss:     0.4468 Accuracy: 0.666000\n",
      "Epoch 24, CIFAR-10 Batch 2:  Loss:     0.4362 Accuracy: 0.668000\n",
      "Epoch 24, CIFAR-10 Batch 3:  Loss:     0.2617 Accuracy: 0.667800\n",
      "Epoch 24, CIFAR-10 Batch 4:  Loss:     0.4268 Accuracy: 0.675000\n",
      "Epoch 24, CIFAR-10 Batch 5:  Loss:     0.3535 Accuracy: 0.669600\n",
      "Epoch 25, CIFAR-10 Batch 1:  Loss:     0.4261 Accuracy: 0.671200\n",
      "Epoch 25, CIFAR-10 Batch 2:  Loss:     0.4047 Accuracy: 0.666600\n",
      "Epoch 25, CIFAR-10 Batch 3:  Loss:     0.2593 Accuracy: 0.670400\n",
      "Epoch 25, CIFAR-10 Batch 4:  Loss:     0.4190 Accuracy: 0.677000\n",
      "Epoch 25, CIFAR-10 Batch 5:  Loss:     0.3801 Accuracy: 0.669000\n",
      "Epoch 26, CIFAR-10 Batch 1:  Loss:     0.4510 Accuracy: 0.672000\n",
      "Epoch 26, CIFAR-10 Batch 2:  Loss:     0.3852 Accuracy: 0.674400\n",
      "Epoch 26, CIFAR-10 Batch 3:  Loss:     0.2360 Accuracy: 0.676600\n",
      "Epoch 26, CIFAR-10 Batch 4:  Loss:     0.3915 Accuracy: 0.675400\n",
      "Epoch 26, CIFAR-10 Batch 5:  Loss:     0.3448 Accuracy: 0.669800\n",
      "Epoch 27, CIFAR-10 Batch 1:  Loss:     0.3834 Accuracy: 0.675800\n",
      "Epoch 27, CIFAR-10 Batch 2:  Loss:     0.3646 Accuracy: 0.677000\n",
      "Epoch 27, CIFAR-10 Batch 3:  Loss:     0.2156 Accuracy: 0.671600\n",
      "Epoch 27, CIFAR-10 Batch 4:  Loss:     0.4475 Accuracy: 0.677200\n",
      "Epoch 27, CIFAR-10 Batch 5:  Loss:     0.3293 Accuracy: 0.675600\n",
      "Epoch 28, CIFAR-10 Batch 1:  Loss:     0.3910 Accuracy: 0.680200\n",
      "Epoch 28, CIFAR-10 Batch 2:  Loss:     0.3409 Accuracy: 0.671600\n",
      "Epoch 28, CIFAR-10 Batch 3:  Loss:     0.2117 Accuracy: 0.674200\n",
      "Epoch 28, CIFAR-10 Batch 4:  Loss:     0.4455 Accuracy: 0.669200\n",
      "Epoch 28, CIFAR-10 Batch 5:  Loss:     0.3057 Accuracy: 0.675600\n",
      "Epoch 29, CIFAR-10 Batch 1:  Loss:     0.3920 Accuracy: 0.676000\n",
      "Epoch 29, CIFAR-10 Batch 2:  Loss:     0.3349 Accuracy: 0.663600\n",
      "Epoch 29, CIFAR-10 Batch 3:  Loss:     0.1989 Accuracy: 0.678400\n",
      "Epoch 29, CIFAR-10 Batch 4:  Loss:     0.4145 Accuracy: 0.661200\n",
      "Epoch 29, CIFAR-10 Batch 5:  Loss:     0.3006 Accuracy: 0.678800\n",
      "Epoch 30, CIFAR-10 Batch 1:  Loss:     0.3842 Accuracy: 0.685800\n",
      "Epoch 30, CIFAR-10 Batch 2:  Loss:     0.3179 Accuracy: 0.670000\n",
      "Epoch 30, CIFAR-10 Batch 3:  Loss:     0.1922 Accuracy: 0.677200\n",
      "Epoch 30, CIFAR-10 Batch 4:  Loss:     0.3682 Accuracy: 0.682800\n",
      "Epoch 30, CIFAR-10 Batch 5:  Loss:     0.2891 Accuracy: 0.677600\n",
      "Epoch 31, CIFAR-10 Batch 1:  Loss:     0.3575 Accuracy: 0.691800\n",
      "Epoch 31, CIFAR-10 Batch 2:  Loss:     0.2954 Accuracy: 0.672800\n",
      "Epoch 31, CIFAR-10 Batch 3:  Loss:     0.1941 Accuracy: 0.682600\n",
      "Epoch 31, CIFAR-10 Batch 4:  Loss:     0.3693 Accuracy: 0.681000\n",
      "Epoch 31, CIFAR-10 Batch 5:  Loss:     0.2618 Accuracy: 0.676600\n",
      "Epoch 32, CIFAR-10 Batch 1:  Loss:     0.3349 Accuracy: 0.679400\n",
      "Epoch 32, CIFAR-10 Batch 2:  Loss:     0.2852 Accuracy: 0.685800\n",
      "Epoch 32, CIFAR-10 Batch 3:  Loss:     0.1541 Accuracy: 0.678800\n",
      "Epoch 32, CIFAR-10 Batch 4:  Loss:     0.3863 Accuracy: 0.672200\n",
      "Epoch 32, CIFAR-10 Batch 5:  Loss:     0.2428 Accuracy: 0.681000\n",
      "Epoch 33, CIFAR-10 Batch 1:  Loss:     0.3022 Accuracy: 0.689000\n",
      "Epoch 33, CIFAR-10 Batch 2:  Loss:     0.2494 Accuracy: 0.679400\n",
      "Epoch 33, CIFAR-10 Batch 3:  Loss:     0.1542 Accuracy: 0.683600\n",
      "Epoch 33, CIFAR-10 Batch 4:  Loss:     0.3502 Accuracy: 0.676000\n",
      "Epoch 33, CIFAR-10 Batch 5:  Loss:     0.2383 Accuracy: 0.682400\n",
      "Epoch 34, CIFAR-10 Batch 1:  Loss:     0.3190 Accuracy: 0.683000\n",
      "Epoch 34, CIFAR-10 Batch 2:  Loss:     0.2491 Accuracy: 0.666400\n",
      "Epoch 34, CIFAR-10 Batch 3:  Loss:     0.1610 Accuracy: 0.682400\n",
      "Epoch 34, CIFAR-10 Batch 4:  Loss:     0.3355 Accuracy: 0.688200\n",
      "Epoch 34, CIFAR-10 Batch 5:  Loss:     0.2170 Accuracy: 0.676200\n",
      "Epoch 35, CIFAR-10 Batch 1:  Loss:     0.3281 Accuracy: 0.691000\n",
      "Epoch 35, CIFAR-10 Batch 2:  Loss:     0.2426 Accuracy: 0.674000\n",
      "Epoch 35, CIFAR-10 Batch 3:  Loss:     0.1548 Accuracy: 0.687200\n",
      "Epoch 35, CIFAR-10 Batch 4:  Loss:     0.3430 Accuracy: 0.680400\n",
      "Epoch 35, CIFAR-10 Batch 5:  Loss:     0.2279 Accuracy: 0.684600\n",
      "Epoch 36, CIFAR-10 Batch 1:  Loss:     0.2994 Accuracy: 0.685800\n",
      "Epoch 36, CIFAR-10 Batch 2:  Loss:     0.2205 Accuracy: 0.671800\n",
      "Epoch 36, CIFAR-10 Batch 3:  Loss:     0.1330 Accuracy: 0.688000\n",
      "Epoch 36, CIFAR-10 Batch 4:  Loss:     0.3174 Accuracy: 0.678600\n",
      "Epoch 36, CIFAR-10 Batch 5:  Loss:     0.2261 Accuracy: 0.676800\n",
      "Epoch 37, CIFAR-10 Batch 1:  Loss:     0.2863 Accuracy: 0.678600\n",
      "Epoch 37, CIFAR-10 Batch 2:  Loss:     0.2189 Accuracy: 0.679800\n",
      "Epoch 37, CIFAR-10 Batch 3:  Loss:     0.1468 Accuracy: 0.685600\n",
      "Epoch 37, CIFAR-10 Batch 4:  Loss:     0.3050 Accuracy: 0.685400\n",
      "Epoch 37, CIFAR-10 Batch 5:  Loss:     0.1746 Accuracy: 0.689800\n",
      "Epoch 38, CIFAR-10 Batch 1:  Loss:     0.2818 Accuracy: 0.692400\n",
      "Epoch 38, CIFAR-10 Batch 2:  Loss:     0.2012 Accuracy: 0.676600\n",
      "Epoch 38, CIFAR-10 Batch 3:  Loss:     0.1250 Accuracy: 0.684600\n",
      "Epoch 38, CIFAR-10 Batch 4:  Loss:     0.2910 Accuracy: 0.684800\n",
      "Epoch 38, CIFAR-10 Batch 5:  Loss:     0.1784 Accuracy: 0.691400\n",
      "Epoch 39, CIFAR-10 Batch 1:  Loss:     0.2837 Accuracy: 0.684600\n",
      "Epoch 39, CIFAR-10 Batch 2:  Loss:     0.2096 Accuracy: 0.667000\n",
      "Epoch 39, CIFAR-10 Batch 3:  Loss:     0.1650 Accuracy: 0.673000\n",
      "Epoch 39, CIFAR-10 Batch 4:  Loss:     0.2998 Accuracy: 0.690600\n",
      "Epoch 39, CIFAR-10 Batch 5:  Loss:     0.1845 Accuracy: 0.688800\n",
      "Epoch 40, CIFAR-10 Batch 1:  Loss:     0.2559 Accuracy: 0.686000\n",
      "Epoch 40, CIFAR-10 Batch 2:  Loss:     0.2098 Accuracy: 0.669200\n",
      "Epoch 40, CIFAR-10 Batch 3:  Loss:     0.1476 Accuracy: 0.680000\n",
      "Epoch 40, CIFAR-10 Batch 4:  Loss:     0.3177 Accuracy: 0.676200\n",
      "Epoch 40, CIFAR-10 Batch 5:  Loss:     0.1640 Accuracy: 0.680400\n",
      "Epoch 41, CIFAR-10 Batch 1:  Loss:     0.2510 Accuracy: 0.681600\n",
      "Epoch 41, CIFAR-10 Batch 2:  Loss:     0.1882 Accuracy: 0.677000\n",
      "Epoch 41, CIFAR-10 Batch 3:  Loss:     0.1315 Accuracy: 0.676000\n",
      "Epoch 41, CIFAR-10 Batch 4:  Loss:     0.2978 Accuracy: 0.675400\n",
      "Epoch 41, CIFAR-10 Batch 5:  Loss:     0.1733 Accuracy: 0.688400\n",
      "Epoch 42, CIFAR-10 Batch 1:  Loss:     0.2355 Accuracy: 0.683800\n",
      "Epoch 42, CIFAR-10 Batch 2:  Loss:     0.2033 Accuracy: 0.677600\n",
      "Epoch 42, CIFAR-10 Batch 3:  Loss:     0.1323 Accuracy: 0.680800\n",
      "Epoch 42, CIFAR-10 Batch 4:  Loss:     0.2974 Accuracy: 0.686000\n",
      "Epoch 42, CIFAR-10 Batch 5:  Loss:     0.1807 Accuracy: 0.686600\n",
      "Epoch 43, CIFAR-10 Batch 1:  Loss:     0.2310 Accuracy: 0.675600\n",
      "Epoch 43, CIFAR-10 Batch 2:  Loss:     0.2080 Accuracy: 0.664000\n",
      "Epoch 43, CIFAR-10 Batch 3:  Loss:     0.0962 Accuracy: 0.685200\n",
      "Epoch 43, CIFAR-10 Batch 4:  Loss:     0.2417 Accuracy: 0.684800\n",
      "Epoch 43, CIFAR-10 Batch 5:  Loss:     0.1675 Accuracy: 0.685200\n",
      "Epoch 44, CIFAR-10 Batch 1:  Loss:     0.2314 Accuracy: 0.664400\n",
      "Epoch 44, CIFAR-10 Batch 2:  Loss:     0.1764 Accuracy: 0.682200\n",
      "Epoch 44, CIFAR-10 Batch 3:  Loss:     0.1096 Accuracy: 0.686000\n",
      "Epoch 44, CIFAR-10 Batch 4:  Loss:     0.2264 Accuracy: 0.685200\n",
      "Epoch 44, CIFAR-10 Batch 5:  Loss:     0.1678 Accuracy: 0.682800\n",
      "Epoch 45, CIFAR-10 Batch 1:  Loss:     0.2138 Accuracy: 0.676000\n",
      "Epoch 45, CIFAR-10 Batch 2:  Loss:     0.1814 Accuracy: 0.678200\n",
      "Epoch 45, CIFAR-10 Batch 3:  Loss:     0.1167 Accuracy: 0.676600\n",
      "Epoch 45, CIFAR-10 Batch 4:  Loss:     0.2470 Accuracy: 0.675400\n",
      "Epoch 45, CIFAR-10 Batch 5:  Loss:     0.2008 Accuracy: 0.683800\n",
      "Epoch 46, CIFAR-10 Batch 1:  Loss:     0.2192 Accuracy: 0.677800\n",
      "Epoch 46, CIFAR-10 Batch 2:  Loss:     0.1662 Accuracy: 0.686200\n",
      "Epoch 46, CIFAR-10 Batch 3:  Loss:     0.1008 Accuracy: 0.675000\n",
      "Epoch 46, CIFAR-10 Batch 4:  Loss:     0.2136 Accuracy: 0.680600\n",
      "Epoch 46, CIFAR-10 Batch 5:  Loss:     0.1569 Accuracy: 0.683000\n",
      "Epoch 47, CIFAR-10 Batch 1:  Loss:     0.1954 Accuracy: 0.671200\n",
      "Epoch 47, CIFAR-10 Batch 2:  Loss:     0.1747 Accuracy: 0.680200\n",
      "Epoch 47, CIFAR-10 Batch 3:  Loss:     0.0974 Accuracy: 0.680400\n",
      "Epoch 47, CIFAR-10 Batch 4:  Loss:     0.2409 Accuracy: 0.683600\n",
      "Epoch 47, CIFAR-10 Batch 5:  Loss:     0.1380 Accuracy: 0.683000\n",
      "Epoch 48, CIFAR-10 Batch 1:  Loss:     0.2049 Accuracy: 0.679000\n",
      "Epoch 48, CIFAR-10 Batch 2:  Loss:     0.1627 Accuracy: 0.683000\n",
      "Epoch 48, CIFAR-10 Batch 3:  Loss:     0.1061 Accuracy: 0.683400\n",
      "Epoch 48, CIFAR-10 Batch 4:  Loss:     0.2008 Accuracy: 0.677600\n",
      "Epoch 48, CIFAR-10 Batch 5:  Loss:     0.1509 Accuracy: 0.682600\n",
      "Epoch 49, CIFAR-10 Batch 1:  Loss:     0.2176 Accuracy: 0.665000\n",
      "Epoch 49, CIFAR-10 Batch 2:  Loss:     0.1591 Accuracy: 0.690400\n",
      "Epoch 49, CIFAR-10 Batch 3:  Loss:     0.0878 Accuracy: 0.681000\n",
      "Epoch 49, CIFAR-10 Batch 4:  Loss:     0.2017 Accuracy: 0.679800\n",
      "Epoch 49, CIFAR-10 Batch 5:  Loss:     0.1418 Accuracy: 0.679400\n",
      "Epoch 50, CIFAR-10 Batch 1:  Loss:     0.1658 Accuracy: 0.678600\n",
      "Epoch 50, CIFAR-10 Batch 2:  Loss:     0.1346 Accuracy: 0.694200\n",
      "Epoch 50, CIFAR-10 Batch 3:  Loss:     0.0873 Accuracy: 0.688400\n",
      "Epoch 50, CIFAR-10 Batch 4:  Loss:     0.2069 Accuracy: 0.680600\n",
      "Epoch 50, CIFAR-10 Batch 5:  Loss:     0.1344 Accuracy: 0.681400\n",
      "Epoch 51, CIFAR-10 Batch 1:  Loss:     0.1861 Accuracy: 0.674600\n",
      "Epoch 51, CIFAR-10 Batch 2:  Loss:     0.1614 Accuracy: 0.685800\n",
      "Epoch 51, CIFAR-10 Batch 3:  Loss:     0.0841 Accuracy: 0.685600\n",
      "Epoch 51, CIFAR-10 Batch 4:  Loss:     0.2095 Accuracy: 0.678400\n",
      "Epoch 51, CIFAR-10 Batch 5:  Loss:     0.1337 Accuracy: 0.685800\n",
      "Epoch 52, CIFAR-10 Batch 1:  Loss:     0.1763 Accuracy: 0.678600\n",
      "Epoch 52, CIFAR-10 Batch 2:  Loss:     0.1530 Accuracy: 0.683400\n",
      "Epoch 52, CIFAR-10 Batch 3:  Loss:     0.0704 Accuracy: 0.692400\n",
      "Epoch 52, CIFAR-10 Batch 4:  Loss:     0.1599 Accuracy: 0.683800\n",
      "Epoch 52, CIFAR-10 Batch 5:  Loss:     0.1192 Accuracy: 0.683600\n",
      "Epoch 53, CIFAR-10 Batch 1:  Loss:     0.1675 Accuracy: 0.673400\n",
      "Epoch 53, CIFAR-10 Batch 2:  Loss:     0.1448 Accuracy: 0.682400\n",
      "Epoch 53, CIFAR-10 Batch 3:  Loss:     0.0694 Accuracy: 0.690600\n",
      "Epoch 53, CIFAR-10 Batch 4:  Loss:     0.1836 Accuracy: 0.680600\n",
      "Epoch 53, CIFAR-10 Batch 5:  Loss:     0.1253 Accuracy: 0.688000\n",
      "Epoch 54, CIFAR-10 Batch 1:  Loss:     0.2043 Accuracy: 0.667600\n",
      "Epoch 54, CIFAR-10 Batch 2:  Loss:     0.1545 Accuracy: 0.683800\n",
      "Epoch 54, CIFAR-10 Batch 3:  Loss:     0.0849 Accuracy: 0.686000\n",
      "Epoch 54, CIFAR-10 Batch 4:  Loss:     0.1867 Accuracy: 0.673000\n",
      "Epoch 54, CIFAR-10 Batch 5:  Loss:     0.0963 Accuracy: 0.683200\n",
      "Epoch 55, CIFAR-10 Batch 1:  Loss:     0.1489 Accuracy: 0.680000\n",
      "Epoch 55, CIFAR-10 Batch 2:  Loss:     0.1348 Accuracy: 0.686200\n",
      "Epoch 55, CIFAR-10 Batch 3:  Loss:     0.0740 Accuracy: 0.682600\n",
      "Epoch 55, CIFAR-10 Batch 4:  Loss:     0.2015 Accuracy: 0.669000\n",
      "Epoch 55, CIFAR-10 Batch 5:  Loss:     0.0876 Accuracy: 0.685800\n",
      "Epoch 56, CIFAR-10 Batch 1:  Loss:     0.1737 Accuracy: 0.674200\n",
      "Epoch 56, CIFAR-10 Batch 2:  Loss:     0.1340 Accuracy: 0.686800\n",
      "Epoch 56, CIFAR-10 Batch 3:  Loss:     0.0573 Accuracy: 0.688600\n",
      "Epoch 56, CIFAR-10 Batch 4:  Loss:     0.1800 Accuracy: 0.672000\n",
      "Epoch 56, CIFAR-10 Batch 5:  Loss:     0.1022 Accuracy: 0.682200\n",
      "Epoch 57, CIFAR-10 Batch 1:  Loss:     0.1798 Accuracy: 0.653400\n",
      "Epoch 57, CIFAR-10 Batch 2:  Loss:     0.1340 Accuracy: 0.687000\n",
      "Epoch 57, CIFAR-10 Batch 3:  Loss:     0.0604 Accuracy: 0.672400\n",
      "Epoch 57, CIFAR-10 Batch 4:  Loss:     0.1574 Accuracy: 0.668800\n",
      "Epoch 57, CIFAR-10 Batch 5:  Loss:     0.0936 Accuracy: 0.682400\n",
      "Epoch 58, CIFAR-10 Batch 1:  Loss:     0.1517 Accuracy: 0.680600\n",
      "Epoch 58, CIFAR-10 Batch 2:  Loss:     0.1158 Accuracy: 0.680400\n",
      "Epoch 58, CIFAR-10 Batch 3:  Loss:     0.0681 Accuracy: 0.681200\n",
      "Epoch 58, CIFAR-10 Batch 4:  Loss:     0.1667 Accuracy: 0.674200\n",
      "Epoch 58, CIFAR-10 Batch 5:  Loss:     0.0875 Accuracy: 0.683000\n",
      "Epoch 59, CIFAR-10 Batch 1:  Loss:     0.1696 Accuracy: 0.663200\n",
      "Epoch 59, CIFAR-10 Batch 2:  Loss:     0.1313 Accuracy: 0.677200\n",
      "Epoch 59, CIFAR-10 Batch 3:  Loss:     0.0590 Accuracy: 0.677400\n",
      "Epoch 59, CIFAR-10 Batch 4:  Loss:     0.1384 Accuracy: 0.675200\n",
      "Epoch 59, CIFAR-10 Batch 5:  Loss:     0.0810 Accuracy: 0.677200\n",
      "Epoch 60, CIFAR-10 Batch 1:  Loss:     0.1600 Accuracy: 0.676400\n",
      "Epoch 60, CIFAR-10 Batch 2:  Loss:     0.1359 Accuracy: 0.685800\n",
      "Epoch 60, CIFAR-10 Batch 3:  Loss:     0.0634 Accuracy: 0.675200\n",
      "Epoch 60, CIFAR-10 Batch 4:  Loss:     0.1467 Accuracy: 0.682200\n",
      "Epoch 60, CIFAR-10 Batch 5:  Loss:     0.1020 Accuracy: 0.680800\n",
      "Epoch 61, CIFAR-10 Batch 1:  Loss:     0.1220 Accuracy: 0.670000\n",
      "Epoch 61, CIFAR-10 Batch 2:  Loss:     0.1489 Accuracy: 0.676800\n",
      "Epoch 61, CIFAR-10 Batch 3:  Loss:     0.0540 Accuracy: 0.687800\n",
      "Epoch 61, CIFAR-10 Batch 4:  Loss:     0.1383 Accuracy: 0.678400\n",
      "Epoch 61, CIFAR-10 Batch 5:  Loss:     0.0715 Accuracy: 0.688000\n",
      "Epoch 62, CIFAR-10 Batch 1:  Loss:     0.1200 Accuracy: 0.664800\n",
      "Epoch 62, CIFAR-10 Batch 2:  Loss:     0.1084 Accuracy: 0.681200\n",
      "Epoch 62, CIFAR-10 Batch 3:  Loss:     0.0650 Accuracy: 0.684200\n",
      "Epoch 62, CIFAR-10 Batch 4:  Loss:     0.1421 Accuracy: 0.678800\n",
      "Epoch 62, CIFAR-10 Batch 5:  Loss:     0.0881 Accuracy: 0.681200\n",
      "Epoch 63, CIFAR-10 Batch 1:  Loss:     0.1135 Accuracy: 0.680800\n",
      "Epoch 63, CIFAR-10 Batch 2:  Loss:     0.1057 Accuracy: 0.682800\n",
      "Epoch 63, CIFAR-10 Batch 3:  Loss:     0.0494 Accuracy: 0.684800\n",
      "Epoch 63, CIFAR-10 Batch 4:  Loss:     0.1399 Accuracy: 0.676800\n",
      "Epoch 63, CIFAR-10 Batch 5:  Loss:     0.0657 Accuracy: 0.685000\n",
      "Epoch 64, CIFAR-10 Batch 1:  Loss:     0.1144 Accuracy: 0.683600\n",
      "Epoch 64, CIFAR-10 Batch 2:  Loss:     0.1115 Accuracy: 0.678200\n",
      "Epoch 64, CIFAR-10 Batch 3:  Loss:     0.0825 Accuracy: 0.673400\n",
      "Epoch 64, CIFAR-10 Batch 4:  Loss:     0.1254 Accuracy: 0.683400\n",
      "Epoch 64, CIFAR-10 Batch 5:  Loss:     0.0783 Accuracy: 0.685200\n",
      "Epoch 65, CIFAR-10 Batch 1:  Loss:     0.1042 Accuracy: 0.678200\n",
      "Epoch 65, CIFAR-10 Batch 2:  Loss:     0.1052 Accuracy: 0.682000\n",
      "Epoch 65, CIFAR-10 Batch 3:  Loss:     0.0577 Accuracy: 0.673200\n",
      "Epoch 65, CIFAR-10 Batch 4:  Loss:     0.1286 Accuracy: 0.685600\n",
      "Epoch 65, CIFAR-10 Batch 5:  Loss:     0.0826 Accuracy: 0.675800\n",
      "Epoch 66, CIFAR-10 Batch 1:  Loss:     0.1050 Accuracy: 0.671400\n",
      "Epoch 66, CIFAR-10 Batch 2:  Loss:     0.1085 Accuracy: 0.677000\n",
      "Epoch 66, CIFAR-10 Batch 3:  Loss:     0.0494 Accuracy: 0.678400\n",
      "Epoch 66, CIFAR-10 Batch 4:  Loss:     0.1208 Accuracy: 0.679600\n",
      "Epoch 66, CIFAR-10 Batch 5:  Loss:     0.0799 Accuracy: 0.680000\n",
      "Epoch 67, CIFAR-10 Batch 1:  Loss:     0.1052 Accuracy: 0.672600\n",
      "Epoch 67, CIFAR-10 Batch 2:  Loss:     0.1095 Accuracy: 0.686000\n",
      "Epoch 67, CIFAR-10 Batch 3:  Loss:     0.0446 Accuracy: 0.676000\n",
      "Epoch 67, CIFAR-10 Batch 4:  Loss:     0.1231 Accuracy: 0.682800\n",
      "Epoch 67, CIFAR-10 Batch 5:  Loss:     0.0786 Accuracy: 0.682200\n",
      "Epoch 68, CIFAR-10 Batch 1:  Loss:     0.0973 Accuracy: 0.672600\n",
      "Epoch 68, CIFAR-10 Batch 2:  Loss:     0.1071 Accuracy: 0.684000\n",
      "Epoch 68, CIFAR-10 Batch 3:  Loss:     0.0404 Accuracy: 0.678200\n",
      "Epoch 68, CIFAR-10 Batch 4:  Loss:     0.1255 Accuracy: 0.686200\n",
      "Epoch 68, CIFAR-10 Batch 5:  Loss:     0.0680 Accuracy: 0.678200\n",
      "Epoch 69, CIFAR-10 Batch 1:  Loss:     0.1003 Accuracy: 0.673800\n",
      "Epoch 69, CIFAR-10 Batch 2:  Loss:     0.1211 Accuracy: 0.672800\n",
      "Epoch 69, CIFAR-10 Batch 3:  Loss:     0.0527 Accuracy: 0.673200\n",
      "Epoch 69, CIFAR-10 Batch 4:  Loss:     0.1223 Accuracy: 0.676000\n",
      "Epoch 69, CIFAR-10 Batch 5:  Loss:     0.0706 Accuracy: 0.682000\n",
      "Epoch 70, CIFAR-10 Batch 1:  Loss:     0.1153 Accuracy: 0.671200\n",
      "Epoch 70, CIFAR-10 Batch 2:  Loss:     0.1081 Accuracy: 0.675200\n",
      "Epoch 70, CIFAR-10 Batch 3:  Loss:     0.0444 Accuracy: 0.683800\n",
      "Epoch 70, CIFAR-10 Batch 4:  Loss:     0.1258 Accuracy: 0.679200\n",
      "Epoch 70, CIFAR-10 Batch 5:  Loss:     0.0547 Accuracy: 0.680800\n",
      "Epoch 71, CIFAR-10 Batch 1:  Loss:     0.0852 Accuracy: 0.675800\n",
      "Epoch 71, CIFAR-10 Batch 2:  Loss:     0.1047 Accuracy: 0.667800\n",
      "Epoch 71, CIFAR-10 Batch 3:  Loss:     0.0433 Accuracy: 0.678400\n",
      "Epoch 71, CIFAR-10 Batch 4:  Loss:     0.1145 Accuracy: 0.684800\n",
      "Epoch 71, CIFAR-10 Batch 5:  Loss:     0.0567 Accuracy: 0.683600\n",
      "Epoch 72, CIFAR-10 Batch 1:  Loss:     0.0982 Accuracy: 0.678200\n",
      "Epoch 72, CIFAR-10 Batch 2:  Loss:     0.0825 Accuracy: 0.676600\n",
      "Epoch 72, CIFAR-10 Batch 3:  Loss:     0.0438 Accuracy: 0.677600\n",
      "Epoch 72, CIFAR-10 Batch 4:  Loss:     0.1284 Accuracy: 0.679800\n",
      "Epoch 72, CIFAR-10 Batch 5:  Loss:     0.0650 Accuracy: 0.674600\n",
      "Epoch 73, CIFAR-10 Batch 1:  Loss:     0.0895 Accuracy: 0.673800\n",
      "Epoch 73, CIFAR-10 Batch 2:  Loss:     0.0881 Accuracy: 0.677200\n",
      "Epoch 73, CIFAR-10 Batch 3:  Loss:     0.0504 Accuracy: 0.680200\n",
      "Epoch 73, CIFAR-10 Batch 4:  Loss:     0.1168 Accuracy: 0.683400\n",
      "Epoch 73, CIFAR-10 Batch 5:  Loss:     0.0574 Accuracy: 0.687200\n",
      "Epoch 74, CIFAR-10 Batch 1:  Loss:     0.0970 Accuracy: 0.673000\n",
      "Epoch 74, CIFAR-10 Batch 2:  Loss:     0.0965 Accuracy: 0.681600\n",
      "Epoch 74, CIFAR-10 Batch 3:  Loss:     0.0336 Accuracy: 0.674000\n",
      "Epoch 74, CIFAR-10 Batch 4:  Loss:     0.1168 Accuracy: 0.686200\n",
      "Epoch 74, CIFAR-10 Batch 5:  Loss:     0.0715 Accuracy: 0.682200\n",
      "Epoch 75, CIFAR-10 Batch 1:  Loss:     0.1028 Accuracy: 0.671200\n",
      "Epoch 75, CIFAR-10 Batch 2:  Loss:     0.0830 Accuracy: 0.680800\n",
      "Epoch 75, CIFAR-10 Batch 3:  Loss:     0.0439 Accuracy: 0.678200\n",
      "Epoch 75, CIFAR-10 Batch 4:  Loss:     0.1117 Accuracy: 0.686400\n",
      "Epoch 75, CIFAR-10 Batch 5:  Loss:     0.0540 Accuracy: 0.684600\n",
      "Epoch 76, CIFAR-10 Batch 1:  Loss:     0.0855 Accuracy: 0.674800\n",
      "Epoch 76, CIFAR-10 Batch 2:  Loss:     0.0817 Accuracy: 0.676600\n",
      "Epoch 76, CIFAR-10 Batch 3:  Loss:     0.0400 Accuracy: 0.680800\n",
      "Epoch 76, CIFAR-10 Batch 4:  Loss:     0.1043 Accuracy: 0.686000\n",
      "Epoch 76, CIFAR-10 Batch 5:  Loss:     0.0566 Accuracy: 0.677800\n",
      "Epoch 77, CIFAR-10 Batch 1:  Loss:     0.0774 Accuracy: 0.673400\n",
      "Epoch 77, CIFAR-10 Batch 2:  Loss:     0.0916 Accuracy: 0.676200\n",
      "Epoch 77, CIFAR-10 Batch 3:  Loss:     0.0395 Accuracy: 0.677000\n",
      "Epoch 77, CIFAR-10 Batch 4:  Loss:     0.1006 Accuracy: 0.684600\n",
      "Epoch 77, CIFAR-10 Batch 5:  Loss:     0.0646 Accuracy: 0.683600\n",
      "Epoch 78, CIFAR-10 Batch 1:  Loss:     0.0968 Accuracy: 0.676000\n",
      "Epoch 78, CIFAR-10 Batch 2:  Loss:     0.0872 Accuracy: 0.686000\n",
      "Epoch 78, CIFAR-10 Batch 3:  Loss:     0.0325 Accuracy: 0.677600\n",
      "Epoch 78, CIFAR-10 Batch 4:  Loss:     0.1378 Accuracy: 0.683200\n",
      "Epoch 78, CIFAR-10 Batch 5:  Loss:     0.0534 Accuracy: 0.689600\n",
      "Epoch 79, CIFAR-10 Batch 1:  Loss:     0.0924 Accuracy: 0.677200\n",
      "Epoch 79, CIFAR-10 Batch 2:  Loss:     0.0836 Accuracy: 0.680400\n",
      "Epoch 79, CIFAR-10 Batch 3:  Loss:     0.0306 Accuracy: 0.685400\n",
      "Epoch 79, CIFAR-10 Batch 4:  Loss:     0.1243 Accuracy: 0.684600\n",
      "Epoch 79, CIFAR-10 Batch 5:  Loss:     0.0614 Accuracy: 0.675600\n",
      "Epoch 80, CIFAR-10 Batch 1:  Loss:     0.0831 Accuracy: 0.675200\n",
      "Epoch 80, CIFAR-10 Batch 2:  Loss:     0.0901 Accuracy: 0.679400\n",
      "Epoch 80, CIFAR-10 Batch 3:  Loss:     0.0368 Accuracy: 0.682600\n",
      "Epoch 80, CIFAR-10 Batch 4:  Loss:     0.1019 Accuracy: 0.685800\n",
      "Epoch 80, CIFAR-10 Batch 5:  Loss:     0.0384 Accuracy: 0.681000\n",
      "Epoch 81, CIFAR-10 Batch 1:  Loss:     0.0826 Accuracy: 0.677200\n",
      "Epoch 81, CIFAR-10 Batch 2:  Loss:     0.0807 Accuracy: 0.676600\n",
      "Epoch 81, CIFAR-10 Batch 3:  Loss:     0.0335 Accuracy: 0.683200\n",
      "Epoch 81, CIFAR-10 Batch 4:  Loss:     0.1044 Accuracy: 0.677400\n",
      "Epoch 81, CIFAR-10 Batch 5:  Loss:     0.0510 Accuracy: 0.684800\n",
      "Epoch 82, CIFAR-10 Batch 1:  Loss:     0.0769 Accuracy: 0.680200\n",
      "Epoch 82, CIFAR-10 Batch 2:  Loss:     0.0974 Accuracy: 0.677600\n",
      "Epoch 82, CIFAR-10 Batch 3:  Loss:     0.0472 Accuracy: 0.680600\n",
      "Epoch 82, CIFAR-10 Batch 4:  Loss:     0.0992 Accuracy: 0.683000\n",
      "Epoch 82, CIFAR-10 Batch 5:  Loss:     0.0491 Accuracy: 0.686200\n",
      "Epoch 83, CIFAR-10 Batch 1:  Loss:     0.0659 Accuracy: 0.682400\n",
      "Epoch 83, CIFAR-10 Batch 2:  Loss:     0.0767 Accuracy: 0.680000\n",
      "Epoch 83, CIFAR-10 Batch 3:  Loss:     0.0448 Accuracy: 0.680000\n",
      "Epoch 83, CIFAR-10 Batch 4:  Loss:     0.0999 Accuracy: 0.683400\n",
      "Epoch 83, CIFAR-10 Batch 5:  Loss:     0.0424 Accuracy: 0.676800\n",
      "Epoch 84, CIFAR-10 Batch 1:  Loss:     0.0617 Accuracy: 0.682400\n",
      "Epoch 84, CIFAR-10 Batch 2:  Loss:     0.0788 Accuracy: 0.680400\n",
      "Epoch 84, CIFAR-10 Batch 3:  Loss:     0.0373 Accuracy: 0.677600\n",
      "Epoch 84, CIFAR-10 Batch 4:  Loss:     0.1223 Accuracy: 0.687600\n",
      "Epoch 84, CIFAR-10 Batch 5:  Loss:     0.0549 Accuracy: 0.681000\n",
      "Epoch 85, CIFAR-10 Batch 1:  Loss:     0.0608 Accuracy: 0.681000\n",
      "Epoch 85, CIFAR-10 Batch 2:  Loss:     0.0696 Accuracy: 0.676800\n",
      "Epoch 85, CIFAR-10 Batch 3:  Loss:     0.0329 Accuracy: 0.680000\n",
      "Epoch 85, CIFAR-10 Batch 4:  Loss:     0.1082 Accuracy: 0.679800\n",
      "Epoch 85, CIFAR-10 Batch 5:  Loss:     0.0422 Accuracy: 0.682400\n",
      "Epoch 86, CIFAR-10 Batch 1:  Loss:     0.0742 Accuracy: 0.672200\n",
      "Epoch 86, CIFAR-10 Batch 2:  Loss:     0.0753 Accuracy: 0.683800\n",
      "Epoch 86, CIFAR-10 Batch 3:  Loss:     0.0297 Accuracy: 0.676200\n",
      "Epoch 86, CIFAR-10 Batch 4:  Loss:     0.0973 Accuracy: 0.684800\n",
      "Epoch 86, CIFAR-10 Batch 5:  Loss:     0.0546 Accuracy: 0.684200\n",
      "Epoch 87, CIFAR-10 Batch 1:  Loss:     0.0676 Accuracy: 0.677200\n",
      "Epoch 87, CIFAR-10 Batch 2:  Loss:     0.0814 Accuracy: 0.680200\n",
      "Epoch 87, CIFAR-10 Batch 3:  Loss:     0.0284 Accuracy: 0.679000\n",
      "Epoch 87, CIFAR-10 Batch 4:  Loss:     0.1057 Accuracy: 0.683400\n",
      "Epoch 87, CIFAR-10 Batch 5:  Loss:     0.0386 Accuracy: 0.685400\n",
      "Epoch 88, CIFAR-10 Batch 1:  Loss:     0.0525 Accuracy: 0.680000\n",
      "Epoch 88, CIFAR-10 Batch 2:  Loss:     0.0813 Accuracy: 0.672000\n",
      "Epoch 88, CIFAR-10 Batch 3:  Loss:     0.0349 Accuracy: 0.669200\n",
      "Epoch 88, CIFAR-10 Batch 4:  Loss:     0.1025 Accuracy: 0.680800\n",
      "Epoch 88, CIFAR-10 Batch 5:  Loss:     0.0522 Accuracy: 0.689200\n",
      "Epoch 89, CIFAR-10 Batch 1:  Loss:     0.0640 Accuracy: 0.678600\n",
      "Epoch 89, CIFAR-10 Batch 2:  Loss:     0.0828 Accuracy: 0.674400\n",
      "Epoch 89, CIFAR-10 Batch 3:  Loss:     0.0373 Accuracy: 0.673800\n",
      "Epoch 89, CIFAR-10 Batch 4:  Loss:     0.1002 Accuracy: 0.677800\n",
      "Epoch 89, CIFAR-10 Batch 5:  Loss:     0.0476 Accuracy: 0.680200\n",
      "Epoch 90, CIFAR-10 Batch 1:  Loss:     0.0698 Accuracy: 0.683800\n",
      "Epoch 90, CIFAR-10 Batch 2:  Loss:     0.0846 Accuracy: 0.679400\n",
      "Epoch 90, CIFAR-10 Batch 3:  Loss:     0.0364 Accuracy: 0.681600\n",
      "Epoch 90, CIFAR-10 Batch 4:  Loss:     0.1025 Accuracy: 0.675000\n",
      "Epoch 90, CIFAR-10 Batch 5:  Loss:     0.0367 Accuracy: 0.688600\n"
     ]
    }
   ],
   "source": [
    "\"\"\"\n",
    "DON'T MODIFY ANYTHING IN THIS CELL\n",
    "\"\"\"\n",
    "save_model_path = './image_classification'\n",
    "\n",
    "print('Training...')\n",
    "with tf.Session() as sess:\n",
    "    # Initializing the variables\n",
    "    sess.run(tf.global_variables_initializer())\n",
    "    \n",
    "    # Training cycle\n",
    "    for epoch in range(epochs):\n",
    "        # Loop over all batches\n",
    "        n_batches = 5\n",
    "        for batch_i in range(1, n_batches + 1):\n",
    "            for batch_features, batch_labels in helper.load_preprocess_training_batch(batch_i, batch_size):\n",
    "                train_neural_network(sess, optimizer, keep_probability, batch_features, batch_labels)\n",
    "            print('Epoch {:>2}, CIFAR-10 Batch {}:  '.format(epoch + 1, batch_i), end='')\n",
    "            print_stats(sess, batch_features, batch_labels, cost, accuracy)\n",
    "            \n",
    "    # Save Model\n",
    "    saver = tf.train.Saver()\n",
    "    save_path = saver.save(sess, save_model_path)"
   ]
  },
  {
   "cell_type": "markdown",
   "metadata": {
    "deletable": true,
    "editable": true
   },
   "source": [
    "# Checkpoint\n",
    "The model has been saved to disk.\n",
    "## Test Model\n",
    "Test your model against the test dataset.  This will be your final accuracy. You should have an accuracy greater than 50%. If you don't, keep tweaking the model architecture and parameters."
   ]
  },
  {
   "cell_type": "code",
   "execution_count": 24,
   "metadata": {
    "collapsed": false,
    "deletable": true,
    "editable": true
   },
   "outputs": [
    {
     "name": "stdout",
     "output_type": "stream",
     "text": [
      "Testing Accuracy: 0.67333984375\n",
      "\n"
     ]
    },
    {
     "data": {
      "image/png": "[encoded data removed]",
      "text/plain": [
       "<matplotlib.figure.Figure at 0x7fc998fb5ef0>"
      ]
     },
     "metadata": {
      "image/png": {
       "height": 319,
       "width": 355
      }
     },
     "output_type": "display_data"
    }
   ],
   "source": [
    "\"\"\"\n",
    "DON'T MODIFY ANYTHING IN THIS CELL\n",
    "\"\"\"\n",
    "%matplotlib inline\n",
    "%config InlineBackend.figure_format = 'retina'\n",
    "\n",
    "import tensorflow as tf\n",
    "import pickle\n",
    "import helper\n",
    "import random\n",
    "\n",
    "# Set batch size if not already set\n",
    "try:\n",
    "    if batch_size:\n",
    "        pass\n",
    "except NameError:\n",
    "    batch_size = 64\n",
    "\n",
    "save_model_path = './image_classification'\n",
    "n_samples = 4\n",
    "top_n_predictions = 3\n",
    "\n",
    "def test_model():\n",
    "    \"\"\"\n",
    "    Test the saved model against the test dataset\n",
    "    \"\"\"\n",
    "\n",
    "    test_features, test_labels = pickle.load(open('preprocess_training.p', mode='rb'))\n",
    "    loaded_graph = tf.Graph()\n",
    "\n",
    "    with tf.Session(graph=loaded_graph) as sess:\n",
    "        # Load model\n",
    "        loader = tf.train.import_meta_graph(save_model_path + '.meta')\n",
    "        loader.restore(sess, save_model_path)\n",
    "\n",
    "        # Get Tensors from loaded model\n",
    "        loaded_x = loaded_graph.get_tensor_by_name('x:0')\n",
    "        loaded_y = loaded_graph.get_tensor_by_name('y:0')\n",
    "        loaded_keep_prob = loaded_graph.get_tensor_by_name('keep_prob:0')\n",
    "        loaded_logits = loaded_graph.get_tensor_by_name('logits:0')\n",
    "        loaded_acc = loaded_graph.get_tensor_by_name('accuracy:0')\n",
    "        \n",
    "        # Get accuracy in batches for memory limitations\n",
    "        test_batch_acc_total = 0\n",
    "        test_batch_count = 0\n",
    "        \n",
    "        for train_feature_batch, train_label_batch in helper.batch_features_labels(test_features, test_labels, batch_size):\n",
    "            test_batch_acc_total += sess.run(\n",
    "                loaded_acc,\n",
    "                feed_dict={loaded_x: train_feature_batch, loaded_y: train_label_batch, loaded_keep_prob: 1.0})\n",
    "            test_batch_count += 1\n",
    "\n",
    "        print('Testing Accuracy: {}\\n'.format(test_batch_acc_total/test_batch_count))\n",
    "\n",
    "        # Print Random Samples\n",
    "        random_test_features, random_test_labels = tuple(zip(*random.sample(list(zip(test_features, test_labels)), n_samples)))\n",
    "        random_test_predictions = sess.run(\n",
    "            tf.nn.top_k(tf.nn.softmax(loaded_logits), top_n_predictions),\n",
    "            feed_dict={loaded_x: random_test_features, loaded_y: random_test_labels, loaded_keep_prob: 1.0})\n",
    "        helper.display_image_predictions(random_test_features, random_test_labels, random_test_predictions)\n",
    "\n",
    "\n",
    "test_model()"
   ]
  },
  {
   "cell_type": "markdown",
   "metadata": {
    "deletable": true,
    "editable": true
   },
   "source": [
    "## Why 50-80% Accuracy?\n",
    "You might be wondering why you can't get an accuracy any higher. First things first, 50% isn't bad for a simple CNN.  Pure guessing would get you 10% accuracy. However, you might notice people are getting scores [well above 80%](http://rodrigob.github.io/are_we_there_yet/build/classification_datasets_results.html#43494641522d3130).  That's because we haven't taught you all there is to know about neural networks. We still need to cover a few more techniques.\n",
    "## Submitting This Project\n",
    "When submitting this project, make sure to run all the cells before saving the notebook.  Save the notebook file as \"dlnd_image_classification.ipynb\" and save it as a HTML file under \"File\" -> \"Download as\".  Include the \"helper.py\" and \"problem_unittests.py\" files in your submission."
   ]
  },
  {
   "cell_type": "code",
   "execution_count": null,
   "metadata": {
    "collapsed": true,
    "deletable": true,
    "editable": true
   },
   "outputs": [],
   "source": []
  }
 ],
 "metadata": {
  "kernelspec": {
   "display_name": "Python 3",
   "language": "python",
   "name": "python3"
  },
  "language_info": {
   "codemirror_mode": {
    "name": "ipython",
    "version": 3
   },
   "file_extension": ".py",
   "mimetype": "text/x-python",
   "name": "python",
   "nbconvert_exporter": "python",
   "pygments_lexer": "ipython3",
   "version": "3.5.2"
  },
  "widgets": {
   "state": {},
   "version": "1.1.2"
  }
 },
 "nbformat": 4,
 "nbformat_minor": 0
}
