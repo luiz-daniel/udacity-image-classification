{
 "cells": [
  {
   "cell_type": "markdown",
   "metadata": {
    "collapsed": true,
    "deletable": true,
    "editable": true
   },
   "source": [
    "# Image Classification\n",
    "In this project, you'll classify images from the [CIFAR-10 dataset](https://www.cs.toronto.edu/~kriz/cifar.html).  The dataset consists of airplanes, dogs, cats, and other objects. You'll preprocess the images, then train a convolutional neural network on all the samples. The images need to be normalized and the labels need to be one-hot encoded.  You'll get to apply what you learned and build a convolutional, max pooling, dropout, and fully connected layers.  At the end, you'll get to see your neural network's predictions on the sample images.\n",
    "## Get the Data\n",
    "Run the following cell to download the [CIFAR-10 dataset for python](https://www.cs.toronto.edu/~kriz/cifar-10-python.tar.gz)."
   ]
  },
  {
   "cell_type": "code",
   "execution_count": 1,
   "metadata": {
    "collapsed": false,
    "deletable": true,
    "editable": true
   },
   "outputs": [
    {
     "name": "stdout",
     "output_type": "stream",
     "text": [
      "All files found!\n"
     ]
    }
   ],
   "source": [
    "\"\"\"\n",
    "DON'T MODIFY ANYTHING IN THIS CELL THAT IS BELOW THIS LINE\n",
    "\"\"\"\n",
    "from urllib.request import urlretrieve\n",
    "from os.path import isfile, isdir\n",
    "from tqdm import tqdm\n",
    "import problem_unittests as tests\n",
    "import tarfile\n",
    "\n",
    "cifar10_dataset_folder_path = 'cifar-10-batches-py'\n",
    "\n",
    "class DLProgress(tqdm):\n",
    "    last_block = 0\n",
    "\n",
    "    def hook(self, block_num=1, block_size=1, total_size=None):\n",
    "        self.total = total_size\n",
    "        self.update((block_num - self.last_block) * block_size)\n",
    "        self.last_block = block_num\n",
    "\n",
    "if not isfile('cifar-10-python.tar.gz'):\n",
    "    with DLProgress(unit='B', unit_scale=True, miniters=1, desc='CIFAR-10 Dataset') as pbar:\n",
    "        urlretrieve(\n",
    "            'https://www.cs.toronto.edu/~kriz/cifar-10-python.tar.gz',\n",
    "            'cifar-10-python.tar.gz',\n",
    "            pbar.hook)\n",
    "\n",
    "if not isdir(cifar10_dataset_folder_path):\n",
    "    with tarfile.open('cifar-10-python.tar.gz') as tar:\n",
    "        tar.extractall()\n",
    "        tar.close()\n",
    "\n",
    "\n",
    "tests.test_folder_path(cifar10_dataset_folder_path)"
   ]
  },
  {
   "cell_type": "markdown",
   "metadata": {
    "deletable": true,
    "editable": true
   },
   "source": [
    "## Explore the Data\n",
    "The dataset is broken into batches to prevent your machine from running out of memory.  The CIFAR-10 dataset consists of 5 batches, named `data_batch_1`, `data_batch_2`, etc.. Each batch contains the labels and images that are one of the following:\n",
    "* airplane\n",
    "* automobile\n",
    "* bird\n",
    "* cat\n",
    "* deer\n",
    "* dog\n",
    "* frog\n",
    "* horse\n",
    "* ship\n",
    "* truck\n",
    "\n",
    "Understanding a dataset is part of making predictions on the data.  Play around with the code cell below by changing the `batch_id` and `sample_id`. The `batch_id` is the id for a batch (1-5). The `sample_id` is the id for a image and label pair in the batch.\n",
    "\n",
    "Ask yourself \"What are all possible labels?\", \"What is the range of values for the image data?\", \"Are the labels in order or random?\".  Answers to questions like these will help you preprocess the data and end up with better predictions."
   ]
  },
  {
   "cell_type": "code",
   "execution_count": 2,
   "metadata": {
    "collapsed": false,
    "deletable": true,
    "editable": true
   },
   "outputs": [
    {
     "name": "stdout",
     "output_type": "stream",
     "text": [
      "\n",
      "Stats of batch 1:\n",
      "Samples: 10000\n",
      "Label Counts: {0: 1005, 1: 974, 2: 1032, 3: 1016, 4: 999, 5: 937, 6: 1030, 7: 1001, 8: 1025, 9: 981}\n",
      "First 20 Labels: [6, 9, 9, 4, 1, 1, 2, 7, 8, 3, 4, 7, 7, 2, 9, 9, 9, 3, 2, 6]\n",
      "\n",
      "Example of Image 5:\n",
      "Image - Min Value: 0 Max Value: 252\n",
      "Image - Shape: (32, 32, 3)\n",
      "Label - Label Id: 1 Name: automobile\n"
     ]
    },
    {
     "data": {
      "image/png": "[encoded data removed]",
      "text/plain": [
       "<matplotlib.figure.Figure at 0x7f200b509c50>"
      ]
     },
     "metadata": {
      "image/png": {
       "height": 250,
       "width": 253
      }
     },
     "output_type": "display_data"
    }
   ],
   "source": [
    "%matplotlib inline\n",
    "%config InlineBackend.figure_format = 'retina'\n",
    "\n",
    "import helper\n",
    "import numpy as np\n",
    "\n",
    "# Explore the dataset\n",
    "batch_id = 1\n",
    "sample_id = 5\n",
    "helper.display_stats(cifar10_dataset_folder_path, batch_id, sample_id)"
   ]
  },
  {
   "cell_type": "markdown",
   "metadata": {
    "deletable": true,
    "editable": true
   },
   "source": [
    "## Implement Preprocess Functions\n",
    "### Normalize\n",
    "In the cell below, implement the `normalize` function to take in image data, `x`, and return it as a normalized Numpy array. The values should be in the range of 0 to 1, inclusive.  The return object should be the same shape as `x`."
   ]
  },
  {
   "cell_type": "code",
   "execution_count": 3,
   "metadata": {
    "collapsed": false,
    "deletable": true,
    "editable": true
   },
   "outputs": [
    {
     "name": "stdout",
     "output_type": "stream",
     "text": [
      "Tests Passed\n"
     ]
    }
   ],
   "source": [
    "def normalize(x):\n",
    "    \"\"\"\n",
    "    Normalize a list of sample image data in the range of 0 to 1\n",
    "    : x: List of image data.  The image shape is (32, 32, 3)\n",
    "    : return: Numpy array of normalize data\n",
    "    \"\"\"\n",
    "    # TODO: Implement Function\n",
    "    return np.array((x/255.0))\n",
    "\n",
    "\n",
    "\"\"\"\n",
    "DON'T MODIFY ANYTHING IN THIS CELL THAT IS BELOW THIS LINE\n",
    "\"\"\"\n",
    "tests.test_normalize(normalize)"
   ]
  },
  {
   "cell_type": "markdown",
   "metadata": {
    "deletable": true,
    "editable": true
   },
   "source": [
    "### One-hot encode\n",
    "Just like the previous code cell, you'll be implementing a function for preprocessing.  This time, you'll implement the `one_hot_encode` function. The input, `x`, are a list of labels.  Implement the function to return the list of labels as One-Hot encoded Numpy array.  The possible values for labels are 0 to 9. The one-hot encoding function should return the same encoding for each value between each call to `one_hot_encode`.  Make sure to save the map of encodings outside the function.\n",
    "\n",
    "Hint: Don't reinvent the wheel."
   ]
  },
  {
   "cell_type": "code",
   "execution_count": 4,
   "metadata": {
    "collapsed": false,
    "deletable": true,
    "editable": true
   },
   "outputs": [
    {
     "name": "stdout",
     "output_type": "stream",
     "text": [
      "Tests Passed\n"
     ]
    }
   ],
   "source": [
    "from sklearn import preprocessing\n",
    "\n",
    "def one_hot_encode(x):\n",
    "    \"\"\"\n",
    "    One hot encode a list of sample labels. Return a one-hot encoded vector for each label.\n",
    "    : x: List of sample Labels\n",
    "    : return: Numpy array of one-hot encoded labels\n",
    "    \"\"\"\n",
    "    # TODO: Implement Function\n",
    "    lb = preprocessing.LabelBinarizer()\n",
    "    lb.fit(x)\n",
    "    lb.classes_ = [0,1,2,3,4,5,6,7,8,9]\n",
    "    return lb.transform(x)\n",
    "\n",
    "\n",
    "\"\"\"\n",
    "DON'T MODIFY ANYTHING IN THIS CELL THAT IS BELOW THIS LINE\n",
    "\"\"\"\n",
    "tests.test_one_hot_encode(one_hot_encode)"
   ]
  },
  {
   "cell_type": "markdown",
   "metadata": {
    "deletable": true,
    "editable": true
   },
   "source": [
    "### Randomize Data\n",
    "As you saw from exploring the data above, the order of the samples are randomized.  It doesn't hurt to randomize it again, but you don't need to for this dataset."
   ]
  },
  {
   "cell_type": "markdown",
   "metadata": {
    "deletable": true,
    "editable": true
   },
   "source": [
    "## Preprocess all the data and save it\n",
    "Running the code cell below will preprocess all the CIFAR-10 data and save it to file. The code below also uses 10% of the training data for validation."
   ]
  },
  {
   "cell_type": "code",
   "execution_count": 5,
   "metadata": {
    "collapsed": false,
    "deletable": true,
    "editable": true
   },
   "outputs": [],
   "source": [
    "\"\"\"\n",
    "DON'T MODIFY ANYTHING IN THIS CELL\n",
    "\"\"\"\n",
    "# Preprocess Training, Validation, and Testing Data\n",
    "helper.preprocess_and_save_data(cifar10_dataset_folder_path, normalize, one_hot_encode)"
   ]
  },
  {
   "cell_type": "markdown",
   "metadata": {
    "deletable": true,
    "editable": true
   },
   "source": [
    "# Check Point\n",
    "This is your first checkpoint.  If you ever decide to come back to this notebook or have to restart the notebook, you can start from here.  The preprocessed data has been saved to disk."
   ]
  },
  {
   "cell_type": "code",
   "execution_count": 6,
   "metadata": {
    "collapsed": true,
    "deletable": true,
    "editable": true
   },
   "outputs": [],
   "source": [
    "\"\"\"\n",
    "DON'T MODIFY ANYTHING IN THIS CELL\n",
    "\"\"\"\n",
    "import pickle\n",
    "import problem_unittests as tests\n",
    "import helper\n",
    "\n",
    "# Load the Preprocessed Validation data\n",
    "valid_features, valid_labels = pickle.load(open('preprocess_validation.p', mode='rb'))"
   ]
  },
  {
   "cell_type": "markdown",
   "metadata": {
    "deletable": true,
    "editable": true
   },
   "source": [
    "## Build the network\n",
    "For the neural network, you'll build each layer into a function.  Most of the code you've seen has been outside of functions. To test your code more thoroughly, we require that you put each layer in a function.  This allows us to give you better feedback and test for simple mistakes using our unittests before you submit your project.\n",
    "\n",
    ">**Note:** If you're finding it hard to dedicate enough time for this course each week, we've provided a small shortcut to this part of the project. In the next couple of problems, you'll have the option to use classes from the [TensorFlow Layers](https://www.tensorflow.org/api_docs/python/tf/layers) or [TensorFlow Layers (contrib)](https://www.tensorflow.org/api_guides/python/contrib.layers) packages to build each layer, except the layers you build in the \"Convolutional and Max Pooling Layer\" section.  TF Layers is similar to Keras's and TFLearn's abstraction to layers, so it's easy to pickup.\n",
    "\n",
    ">However, if you would like to get the most out of this course, try to solve all the problems _without_ using anything from the TF Layers packages. You **can** still use classes from other packages that happen to have the same name as ones you find in TF Layers! For example, instead of using the TF Layers version of the `conv2d` class, [tf.layers.conv2d](https://www.tensorflow.org/api_docs/python/tf/layers/conv2d), you would want to use the TF Neural Network version of `conv2d`, [tf.nn.conv2d](https://www.tensorflow.org/api_docs/python/tf/nn/conv2d). \n",
    "\n",
    "Let's begin!\n",
    "\n",
    "### Input\n",
    "The neural network needs to read the image data, one-hot encoded labels, and dropout keep probability. Implement the following functions\n",
    "* Implement `neural_net_image_input`\n",
    " * Return a [TF Placeholder](https://www.tensorflow.org/api_docs/python/tf/placeholder)\n",
    " * Set the shape using `image_shape` with batch size set to `None`.\n",
    " * Name the TensorFlow placeholder \"x\" using the TensorFlow `name` parameter in the [TF Placeholder](https://www.tensorflow.org/api_docs/python/tf/placeholder).\n",
    "* Implement `neural_net_label_input`\n",
    " * Return a [TF Placeholder](https://www.tensorflow.org/api_docs/python/tf/placeholder)\n",
    " * Set the shape using `n_classes` with batch size set to `None`.\n",
    " * Name the TensorFlow placeholder \"y\" using the TensorFlow `name` parameter in the [TF Placeholder](https://www.tensorflow.org/api_docs/python/tf/placeholder).\n",
    "* Implement `neural_net_keep_prob_input`\n",
    " * Return a [TF Placeholder](https://www.tensorflow.org/api_docs/python/tf/placeholder) for dropout keep probability.\n",
    " * Name the TensorFlow placeholder \"keep_prob\" using the TensorFlow `name` parameter in the [TF Placeholder](https://www.tensorflow.org/api_docs/python/tf/placeholder).\n",
    "\n",
    "These names will be used at the end of the project to load your saved model.\n",
    "\n",
    "Note: `None` for shapes in TensorFlow allow for a dynamic size."
   ]
  },
  {
   "cell_type": "code",
   "execution_count": 7,
   "metadata": {
    "collapsed": false,
    "deletable": true,
    "editable": true
   },
   "outputs": [
    {
     "name": "stdout",
     "output_type": "stream",
     "text": [
      "Image Input Tests Passed.\n",
      "Label Input Tests Passed.\n",
      "Keep Prob Tests Passed.\n"
     ]
    }
   ],
   "source": [
    "import tensorflow as tf\n",
    "\n",
    "def neural_net_image_input(image_shape):\n",
    "    \"\"\"\n",
    "    Return a Tensor for a batch of image input\n",
    "    : image_shape: Shape of the images\n",
    "    : return: Tensor for image input.\n",
    "    \"\"\"\n",
    "    # TODO: Implement Function\n",
    "    return tf.placeholder(tf.float32, [None,*image_shape], name='x')\n",
    "\n",
    "\n",
    "def neural_net_label_input(n_classes):\n",
    "    \"\"\"\n",
    "    Return a Tensor for a batch of label input\n",
    "    : n_classes: Number of classes\n",
    "    : return: Tensor for label input.\n",
    "    \"\"\"\n",
    "    # TODO: Implement Function\n",
    "    return tf.placeholder(tf.float32, [None, n_classes], name='y')\n",
    "\n",
    "\n",
    "def neural_net_keep_prob_input():\n",
    "    \"\"\"\n",
    "    Return a Tensor for keep probability\n",
    "    : return: Tensor for keep probability.\n",
    "    \"\"\"\n",
    "    # TODO: Implement Function\n",
    "    return tf.placeholder(tf.float32, name='keep_prob')\n",
    "\n",
    "\n",
    "\"\"\"\n",
    "DON'T MODIFY ANYTHING IN THIS CELL THAT IS BELOW THIS LINE\n",
    "\"\"\"\n",
    "tf.reset_default_graph()\n",
    "tests.test_nn_image_inputs(neural_net_image_input)\n",
    "tests.test_nn_label_inputs(neural_net_label_input)\n",
    "tests.test_nn_keep_prob_inputs(neural_net_keep_prob_input)"
   ]
  },
  {
   "cell_type": "markdown",
   "metadata": {
    "deletable": true,
    "editable": true
   },
   "source": [
    "### Convolution and Max Pooling Layer\n",
    "Convolution layers have a lot of success with images. For this code cell, you should implement the function `conv2d_maxpool` to apply convolution then max pooling:\n",
    "* Create the weight and bias using `conv_ksize`, `conv_num_outputs` and the shape of `x_tensor`.\n",
    "* Apply a convolution to `x_tensor` using weight and `conv_strides`.\n",
    " * We recommend you use same padding, but you're welcome to use any padding.\n",
    "* Add bias\n",
    "* Add a nonlinear activation to the convolution.\n",
    "* Apply Max Pooling using `pool_ksize` and `pool_strides`.\n",
    " * We recommend you use same padding, but you're welcome to use any padding.\n",
    "\n",
    "**Note:** You **can't** use [TensorFlow Layers](https://www.tensorflow.org/api_docs/python/tf/layers) or [TensorFlow Layers (contrib)](https://www.tensorflow.org/api_guides/python/contrib.layers) for **this** layer, but you can still use TensorFlow's [Neural Network](https://www.tensorflow.org/api_docs/python/tf/nn) package. You may still use the shortcut option for all the **other** layers."
   ]
  },
  {
   "cell_type": "code",
   "execution_count": 8,
   "metadata": {
    "collapsed": false,
    "deletable": true,
    "editable": true
   },
   "outputs": [
    {
     "name": "stdout",
     "output_type": "stream",
     "text": [
      "Tests Passed\n"
     ]
    }
   ],
   "source": [
    "def conv2d_maxpool(x_tensor, conv_num_outputs, conv_ksize, conv_strides, pool_ksize, pool_strides):\n",
    "    \"\"\"\n",
    "    Apply convolution then max pooling to x_tensor\n",
    "    :param x_tensor: TensorFlow Tensor\n",
    "    :param conv_num_outputs: Number of outputs for the convolutional layer\n",
    "    :param conv_ksize: kernal size 2-D Tuple for the convolutional layer\n",
    "    :param conv_strides: Stride 2-D Tuple for convolution\n",
    "    :param pool_ksize: kernal size 2-D Tuple for pool\n",
    "    :param pool_strides: Stride 2-D Tuple for pool\n",
    "    : return: A tensor that represents convolution and max pooling of x_tensor\n",
    "    \"\"\"\n",
    "    # TODO: Implement Function\n",
    "    filter_weights_shape = [*conv_ksize, x_tensor.get_shape().as_list()[3], conv_num_outputs]\n",
    "    filter_weights = tf.Variable(tf.truncated_normal(filter_weights_shape, stddev=0.1))\n",
    "    filter_bias = tf.Variable(tf.zeros(conv_num_outputs))\n",
    "    \n",
    "    layer = tf.nn.conv2d(x_tensor, filter_weights, strides=[1,*conv_strides,1], padding='SAME')\n",
    "    layer = tf.nn.bias_add(layer, filter_bias)\n",
    "    layer = tf.nn.relu(layer)\n",
    "    return tf.nn.max_pool(layer, ksize=[1,*pool_ksize, 1], strides=[1,*pool_strides, 1], padding ='SAME')\n",
    "\n",
    "\n",
    "\"\"\"\n",
    "DON'T MODIFY ANYTHING IN THIS CELL THAT IS BELOW THIS LINE\n",
    "\"\"\"\n",
    "tests.test_con_pool(conv2d_maxpool)"
   ]
  },
  {
   "cell_type": "markdown",
   "metadata": {
    "deletable": true,
    "editable": true
   },
   "source": [
    "### Flatten Layer\n",
    "Implement the `flatten` function to change the dimension of `x_tensor` from a 4-D tensor to a 2-D tensor.  The output should be the shape (*Batch Size*, *Flattened Image Size*). Shortcut option: you can use classes from the [TensorFlow Layers](https://www.tensorflow.org/api_docs/python/tf/layers) or [TensorFlow Layers (contrib)](https://www.tensorflow.org/api_guides/python/contrib.layers) packages for this layer. For more of a challenge, only use other TensorFlow packages."
   ]
  },
  {
   "cell_type": "code",
   "execution_count": 9,
   "metadata": {
    "collapsed": false,
    "deletable": true,
    "editable": true
   },
   "outputs": [
    {
     "name": "stdout",
     "output_type": "stream",
     "text": [
      "Tests Passed\n"
     ]
    }
   ],
   "source": [
    "def flatten(x_tensor):\n",
    "    \"\"\"\n",
    "    Flatten x_tensor to (Batch Size, Flattened Image Size)\n",
    "    : x_tensor: A tensor of size (Batch Size, ...), where ... are the image dimensions.\n",
    "    : return: A tensor of size (Batch Size, Flattened Image Size).\n",
    "    \"\"\"\n",
    "    # TODO: Implement Function\n",
    "    shape_list = x_tensor.get_shape().as_list()\n",
    "    shape_value = shape_list[1] * shape_list[2] * shape_list[3]\n",
    "    return tf.reshape(x_tensor, [-1, shape_value])\n",
    "\n",
    "\n",
    "\"\"\"\n",
    "DON'T MODIFY ANYTHING IN THIS CELL THAT IS BELOW THIS LINE\n",
    "\"\"\"\n",
    "tests.test_flatten(flatten)"
   ]
  },
  {
   "cell_type": "markdown",
   "metadata": {
    "deletable": true,
    "editable": true
   },
   "source": [
    "### Fully-Connected Layer\n",
    "Implement the `fully_conn` function to apply a fully connected layer to `x_tensor` with the shape (*Batch Size*, *num_outputs*). Shortcut option: you can use classes from the [TensorFlow Layers](https://www.tensorflow.org/api_docs/python/tf/layers) or [TensorFlow Layers (contrib)](https://www.tensorflow.org/api_guides/python/contrib.layers) packages for this layer. For more of a challenge, only use other TensorFlow packages."
   ]
  },
  {
   "cell_type": "code",
   "execution_count": 11,
   "metadata": {
    "collapsed": false,
    "deletable": true,
    "editable": true
   },
   "outputs": [
    {
     "name": "stdout",
     "output_type": "stream",
     "text": [
      "Tests Passed\n"
     ]
    }
   ],
   "source": [
    "def fully_conn(x_tensor, num_outputs):\n",
    "    \"\"\"\n",
    "    Apply a fully connected layer to x_tensor using weight and bias\n",
    "    : x_tensor: A 2-D tensor where the first dimension is batch size.\n",
    "    : num_outputs: The number of output that the new tensor should be.\n",
    "    : return: A 2-D tensor where the second dimension is num_outputs.\n",
    "    \"\"\"\n",
    "    # TODO: Implement Function\n",
    "    w = tf.Variable(tf.truncated_normal([x_tensor.get_shape().as_list()[1], num_outputs], stddev=0.1))\n",
    "    bias = tf.Variable(tf.zeros([num_outputs]))\n",
    "    fully_conn =  tf.add(tf.matmul(x_tensor, w), bias)\n",
    "    return tf.nn.relu(fully_conn)\n",
    "    \n",
    "\n",
    "\"\"\"\n",
    "DON'T MODIFY ANYTHING IN THIS CELL THAT IS BELOW THIS LINE\n",
    "\"\"\"\n",
    "tests.test_fully_conn(fully_conn)"
   ]
  },
  {
   "cell_type": "markdown",
   "metadata": {
    "deletable": true,
    "editable": true
   },
   "source": [
    "### Output Layer\n",
    "Implement the `output` function to apply a fully connected layer to `x_tensor` with the shape (*Batch Size*, *num_outputs*). Shortcut option: you can use classes from the [TensorFlow Layers](https://www.tensorflow.org/api_docs/python/tf/layers) or [TensorFlow Layers (contrib)](https://www.tensorflow.org/api_guides/python/contrib.layers) packages for this layer. For more of a challenge, only use other TensorFlow packages.\n",
    "\n",
    "**Note:** Activation, softmax, or cross entropy should **not** be applied to this."
   ]
  },
  {
   "cell_type": "code",
   "execution_count": 12,
   "metadata": {
    "collapsed": false,
    "deletable": true,
    "editable": true
   },
   "outputs": [
    {
     "name": "stdout",
     "output_type": "stream",
     "text": [
      "Tests Passed\n"
     ]
    }
   ],
   "source": [
    "def output(x_tensor, num_outputs):\n",
    "    \"\"\"\n",
    "    Apply a output layer to x_tensor using weight and bias\n",
    "    : x_tensor: A 2-D tensor where the first dimension is batch size.\n",
    "    : num_outputs: The number of output that the new tensor should be.\n",
    "    : return: A 2-D tensor where the second dimension is num_outputs.\n",
    "    \"\"\"\n",
    "    # TODO: Implement Function\n",
    "    depth = x_tensor.get_shape().as_list()[1]\n",
    "    weights = tf.Variable(tf.truncated_normal([depth, num_outputs], stddev=0.1))\n",
    "    bias = tf.Variable(tf.zeros(num_outputs))\n",
    "    return tf.add(tf.matmul(x_tensor, weights), bias)\n",
    "\n",
    "\n",
    "\"\"\"\n",
    "DON'T MODIFY ANYTHING IN THIS CELL THAT IS BELOW THIS LINE\n",
    "\"\"\"\n",
    "tests.test_output(output)"
   ]
  },
  {
   "cell_type": "markdown",
   "metadata": {
    "deletable": true,
    "editable": true
   },
   "source": [
    "### Create Convolutional Model\n",
    "Implement the function `conv_net` to create a convolutional neural network model. The function takes in a batch of images, `x`, and outputs logits.  Use the layers you created above to create this model:\n",
    "\n",
    "* Apply 1, 2, or 3 Convolution and Max Pool layers\n",
    "* Apply a Flatten Layer\n",
    "* Apply 1, 2, or 3 Fully Connected Layers\n",
    "* Apply an Output Layer\n",
    "* Return the output\n",
    "* Apply [TensorFlow's Dropout](https://www.tensorflow.org/api_docs/python/tf/nn/dropout) to one or more layers in the model using `keep_prob`. "
   ]
  },
  {
   "cell_type": "code",
   "execution_count": 14,
   "metadata": {
    "collapsed": false,
    "deletable": true,
    "editable": true
   },
   "outputs": [
    {
     "name": "stdout",
     "output_type": "stream",
     "text": [
      "Neural Network Built!\n"
     ]
    }
   ],
   "source": [
    "def conv_net(x, keep_prob):\n",
    "    \"\"\"\n",
    "    Create a convolutional neural network model\n",
    "    : x: Placeholder tensor that holds image data.\n",
    "    : keep_prob: Placeholder tensor that hold dropout keep probability.\n",
    "    : return: Tensor that represents logits\n",
    "    \"\"\"\n",
    "    # TODO: Apply 1, 2, or 3 Convolution and Max Pool layers\n",
    "    #    Play around with different number of outputs, kernel size and stride\n",
    "    # Function Definition from Above:\n",
    "    #    conv2d_maxpool(x_tensor, conv_num_outputs, conv_ksize, conv_strides, pool_ksize, pool_strides)\n",
    "    conv = conv2d_maxpool(x, 32, (5,5), (1,1), (2,2), (2,2))\n",
    "\n",
    "    conv = conv2d_maxpool(conv, 64, (3,3), (1,1), (2,2), (2,2))\n",
    "\n",
    "    \n",
    "    # TODO: Apply a Flatten Layer\n",
    "    # Function Definition from Above:\n",
    "    #   flatten(x_tensor)\n",
    "    flat = flatten(conv)\n",
    "    \n",
    "\n",
    "    # TODO: Apply 1, 2, or 3 Fully Connected Layers\n",
    "    #    Play around with different number of outputs\n",
    "    # Function Definition from Above:\n",
    "    #   fully_conn(x_tensor, num_outputs)\n",
    "    \n",
    "    fc = fully_conn(flat, 48)\n",
    "    \n",
    "    fc = tf.nn.dropout(fc, keep_prob)\n",
    "    \n",
    "    # TODO: Apply an Output Layer\n",
    "    #    Set this to the number of classes\n",
    "    # Function Definition from Above:\n",
    "    #   output(x_tensor, num_outputs)\n",
    "    \n",
    "    # TODO: return output\n",
    "    return output(fc, 10)\n",
    "\n",
    "\n",
    "\"\"\"\n",
    "DON'T MODIFY ANYTHING IN THIS CELL THAT IS BELOW THIS LINE\n",
    "\"\"\"\n",
    "\n",
    "##############################\n",
    "## Build the Neural Network ##\n",
    "##############################\n",
    "\n",
    "# Remove previous weights, bias, inputs, etc..\n",
    "tf.reset_default_graph()\n",
    "\n",
    "# Inputs\n",
    "x = neural_net_image_input((32, 32, 3))\n",
    "y = neural_net_label_input(10)\n",
    "keep_prob = neural_net_keep_prob_input()\n",
    "\n",
    "# Model\n",
    "logits = conv_net(x, keep_prob)\n",
    "\n",
    "# Name logits Tensor, so that is can be loaded from disk after training\n",
    "logits = tf.identity(logits, name='logits')\n",
    "\n",
    "# Loss and Optimizer\n",
    "cost = tf.reduce_mean(tf.nn.softmax_cross_entropy_with_logits(logits=logits, labels=y))\n",
    "optimizer = tf.train.AdamOptimizer().minimize(cost)\n",
    "\n",
    "# Accuracy\n",
    "correct_pred = tf.equal(tf.argmax(logits, 1), tf.argmax(y, 1))\n",
    "accuracy = tf.reduce_mean(tf.cast(correct_pred, tf.float32), name='accuracy')\n",
    "\n",
    "tests.test_conv_net(conv_net)"
   ]
  },
  {
   "cell_type": "markdown",
   "metadata": {
    "deletable": true,
    "editable": true
   },
   "source": [
    "## Train the Neural Network\n",
    "### Single Optimization\n",
    "Implement the function `train_neural_network` to do a single optimization.  The optimization should use `optimizer` to optimize in `session` with a `feed_dict` of the following:\n",
    "* `x` for image input\n",
    "* `y` for labels\n",
    "* `keep_prob` for keep probability for dropout\n",
    "\n",
    "This function will be called for each batch, so `tf.global_variables_initializer()` has already been called.\n",
    "\n",
    "Note: Nothing needs to be returned. This function is only optimizing the neural network."
   ]
  },
  {
   "cell_type": "code",
   "execution_count": 21,
   "metadata": {
    "collapsed": false,
    "deletable": true,
    "editable": true
   },
   "outputs": [
    {
     "name": "stdout",
     "output_type": "stream",
     "text": [
      "Tests Passed\n"
     ]
    }
   ],
   "source": [
    "def train_neural_network(session, optimizer, keep_probability, feature_batch, label_batch):\n",
    "    \"\"\"\n",
    "    Optimize the session on a batch of images and labels\n",
    "    : session: Current TensorFlow session\n",
    "    : optimizer: TensorFlow optimizer function\n",
    "    : keep_probability: keep probability\n",
    "    : feature_batch: Batch of Numpy image data\n",
    "    : label_batch: Batch of Numpy label data\n",
    "    \"\"\"\n",
    "    # TODO: Implement Function\n",
    "    session.run(optimizer, feed_dict={x:feature_batch, y:label_batch, keep_prob: keep_probability})\n",
    "\n",
    "\n",
    "\"\"\"\n",
    "DON'T MODIFY ANYTHING IN THIS CELL THAT IS BELOW THIS LINE\n",
    "\"\"\"\n",
    "tests.test_train_nn(train_neural_network)"
   ]
  },
  {
   "cell_type": "markdown",
   "metadata": {
    "deletable": true,
    "editable": true
   },
   "source": [
    "### Show Stats\n",
    "Implement the function `print_stats` to print loss and validation accuracy.  Use the global variables `valid_features` and `valid_labels` to calculate validation accuracy.  Use a keep probability of `1.0` to calculate the loss and validation accuracy."
   ]
  },
  {
   "cell_type": "code",
   "execution_count": 26,
   "metadata": {
    "collapsed": false,
    "deletable": true,
    "editable": true
   },
   "outputs": [],
   "source": [
    "def print_stats(session, feature_batch, label_batch, cost, accuracy):\n",
    "    \"\"\"\n",
    "    Print information about loss and validation accuracy\n",
    "    : session: Current TensorFlow session\n",
    "    : feature_batch: Batch of Numpy image data\n",
    "    : label_batch: Batch of Numpy label data\n",
    "    : cost: TensorFlow cost function\n",
    "    : accuracy: TensorFlow accuracy function\n",
    "    \"\"\"\n",
    "    # TODO: Implement Function\n",
    "    loss = session.run(cost, feed_dict={x:feature_batch, y:label_batch, keep_prob: 1.})\n",
    "    acc = session.run(accuracy, feed_dict={x:feature_batch, y:label_batch, keep_prob: 1.})\n",
    "    print('Loss: {:>10.4f} Accuracy: {:.6f}'.format(loss,acc))\n",
    "    "
   ]
  },
  {
   "cell_type": "markdown",
   "metadata": {
    "deletable": true,
    "editable": true
   },
   "source": [
    "### Hyperparameters\n",
    "Tune the following parameters:\n",
    "* Set `epochs` to the number of iterations until the network stops learning or start overfitting\n",
    "* Set `batch_size` to the highest number that your machine has memory for.  Most people set them to common sizes of memory:\n",
    " * 64\n",
    " * 128\n",
    " * 256\n",
    " * ...\n",
    "* Set `keep_probability` to the probability of keeping a node using dropout"
   ]
  },
  {
   "cell_type": "code",
   "execution_count": 29,
   "metadata": {
    "collapsed": true,
    "deletable": true,
    "editable": true
   },
   "outputs": [],
   "source": [
    "# TODO: Tune Parameters\n",
    "epochs = 50\n",
    "batch_size = 256\n",
    "keep_probability = 0.8"
   ]
  },
  {
   "cell_type": "markdown",
   "metadata": {
    "deletable": true,
    "editable": true
   },
   "source": [
    "### Train on a Single CIFAR-10 Batch\n",
    "Instead of training the neural network on all the CIFAR-10 batches of data, let's use a single batch. This should save time while you iterate on the model to get a better accuracy.  Once the final validation accuracy is 50% or greater, run the model on all the data in the next section."
   ]
  },
  {
   "cell_type": "code",
   "execution_count": 30,
   "metadata": {
    "collapsed": false,
    "deletable": true,
    "editable": true
   },
   "outputs": [
    {
     "name": "stdout",
     "output_type": "stream",
     "text": [
      "Checking the Training on a Single Batch...\n",
      "Epoch  1, CIFAR-10 Batch 1:  Loss:     2.1579 Accuracy: 0.175000\n",
      "Epoch  2, CIFAR-10 Batch 1:  Loss:     1.9095 Accuracy: 0.375000\n",
      "Epoch  3, CIFAR-10 Batch 1:  Loss:     1.7989 Accuracy: 0.400000\n",
      "Epoch  4, CIFAR-10 Batch 1:  Loss:     1.6063 Accuracy: 0.450000\n",
      "Epoch  5, CIFAR-10 Batch 1:  Loss:     1.4615 Accuracy: 0.475000\n",
      "Epoch  6, CIFAR-10 Batch 1:  Loss:     1.2987 Accuracy: 0.600000\n",
      "Epoch  7, CIFAR-10 Batch 1:  Loss:     1.1615 Accuracy: 0.725000\n",
      "Epoch  8, CIFAR-10 Batch 1:  Loss:     1.0783 Accuracy: 0.675000\n",
      "Epoch  9, CIFAR-10 Batch 1:  Loss:     0.9748 Accuracy: 0.750000\n",
      "Epoch 10, CIFAR-10 Batch 1:  Loss:     0.9152 Accuracy: 0.775000\n",
      "Epoch 11, CIFAR-10 Batch 1:  Loss:     0.9032 Accuracy: 0.750000\n",
      "Epoch 12, CIFAR-10 Batch 1:  Loss:     0.7928 Accuracy: 0.800000\n",
      "Epoch 13, CIFAR-10 Batch 1:  Loss:     0.7072 Accuracy: 0.775000\n",
      "Epoch 14, CIFAR-10 Batch 1:  Loss:     0.6762 Accuracy: 0.800000\n",
      "Epoch 15, CIFAR-10 Batch 1:  Loss:     0.6099 Accuracy: 0.825000\n",
      "Epoch 16, CIFAR-10 Batch 1:  Loss:     0.6015 Accuracy: 0.825000\n",
      "Epoch 17, CIFAR-10 Batch 1:  Loss:     0.5508 Accuracy: 0.850000\n",
      "Epoch 18, CIFAR-10 Batch 1:  Loss:     0.5202 Accuracy: 0.850000\n",
      "Epoch 19, CIFAR-10 Batch 1:  Loss:     0.4549 Accuracy: 0.900000\n",
      "Epoch 20, CIFAR-10 Batch 1:  Loss:     0.4303 Accuracy: 0.850000\n",
      "Epoch 21, CIFAR-10 Batch 1:  Loss:     0.4019 Accuracy: 0.900000\n",
      "Epoch 22, CIFAR-10 Batch 1:  Loss:     0.3696 Accuracy: 0.950000\n",
      "Epoch 23, CIFAR-10 Batch 1:  Loss:     0.3508 Accuracy: 0.950000\n",
      "Epoch 24, CIFAR-10 Batch 1:  Loss:     0.3677 Accuracy: 0.925000\n",
      "Epoch 25, CIFAR-10 Batch 1:  Loss:     0.3061 Accuracy: 0.950000\n",
      "Epoch 26, CIFAR-10 Batch 1:  Loss:     0.2809 Accuracy: 0.925000\n",
      "Epoch 27, CIFAR-10 Batch 1:  Loss:     0.2542 Accuracy: 0.975000\n",
      "Epoch 28, CIFAR-10 Batch 1:  Loss:     0.2484 Accuracy: 0.975000\n",
      "Epoch 29, CIFAR-10 Batch 1:  Loss:     0.2075 Accuracy: 1.000000\n",
      "Epoch 30, CIFAR-10 Batch 1:  Loss:     0.1818 Accuracy: 1.000000\n",
      "Epoch 31, CIFAR-10 Batch 1:  Loss:     0.1755 Accuracy: 1.000000\n",
      "Epoch 32, CIFAR-10 Batch 1:  Loss:     0.1690 Accuracy: 1.000000\n",
      "Epoch 33, CIFAR-10 Batch 1:  Loss:     0.1471 Accuracy: 1.000000\n",
      "Epoch 34, CIFAR-10 Batch 1:  Loss:     0.1358 Accuracy: 1.000000\n",
      "Epoch 35, CIFAR-10 Batch 1:  Loss:     0.1478 Accuracy: 1.000000\n",
      "Epoch 36, CIFAR-10 Batch 1:  Loss:     0.1423 Accuracy: 1.000000\n",
      "Epoch 37, CIFAR-10 Batch 1:  Loss:     0.1398 Accuracy: 1.000000\n",
      "Epoch 38, CIFAR-10 Batch 1:  Loss:     0.1243 Accuracy: 1.000000\n",
      "Epoch 39, CIFAR-10 Batch 1:  Loss:     0.1239 Accuracy: 1.000000\n",
      "Epoch 40, CIFAR-10 Batch 1:  Loss:     0.1198 Accuracy: 1.000000\n",
      "Epoch 41, CIFAR-10 Batch 1:  Loss:     0.0917 Accuracy: 1.000000\n",
      "Epoch 42, CIFAR-10 Batch 1:  Loss:     0.1148 Accuracy: 1.000000\n",
      "Epoch 43, CIFAR-10 Batch 1:  Loss:     0.0739 Accuracy: 1.000000\n",
      "Epoch 44, CIFAR-10 Batch 1:  Loss:     0.0795 Accuracy: 1.000000\n",
      "Epoch 45, CIFAR-10 Batch 1:  Loss:     0.0689 Accuracy: 1.000000\n",
      "Epoch 46, CIFAR-10 Batch 1:  Loss:     0.0677 Accuracy: 1.000000\n",
      "Epoch 47, CIFAR-10 Batch 1:  Loss:     0.0708 Accuracy: 1.000000\n",
      "Epoch 48, CIFAR-10 Batch 1:  Loss:     0.0525 Accuracy: 1.000000\n",
      "Epoch 49, CIFAR-10 Batch 1:  Loss:     0.0477 Accuracy: 1.000000\n",
      "Epoch 50, CIFAR-10 Batch 1:  Loss:     0.0446 Accuracy: 1.000000\n"
     ]
    }
   ],
   "source": [
    "\"\"\"\n",
    "DON'T MODIFY ANYTHING IN THIS CELL\n",
    "\"\"\"\n",
    "print('Checking the Training on a Single Batch...')\n",
    "with tf.Session() as sess:\n",
    "    # Initializing the variables\n",
    "    sess.run(tf.global_variables_initializer())\n",
    "    \n",
    "    # Training cycle\n",
    "    for epoch in range(epochs):\n",
    "        batch_i = 1\n",
    "        for batch_features, batch_labels in helper.load_preprocess_training_batch(batch_i, batch_size):\n",
    "            train_neural_network(sess, optimizer, keep_probability, batch_features, batch_labels)\n",
    "        print('Epoch {:>2}, CIFAR-10 Batch {}:  '.format(epoch + 1, batch_i), end='')\n",
    "        print_stats(sess, batch_features, batch_labels, cost, accuracy)"
   ]
  },
  {
   "cell_type": "markdown",
   "metadata": {
    "deletable": true,
    "editable": true
   },
   "source": [
    "### Fully Train the Model\n",
    "Now that you got a good accuracy with a single CIFAR-10 batch, try it with all five batches."
   ]
  },
  {
   "cell_type": "code",
   "execution_count": 31,
   "metadata": {
    "collapsed": false,
    "deletable": true,
    "editable": true
   },
   "outputs": [
    {
     "name": "stdout",
     "output_type": "stream",
     "text": [
      "Training...\n",
      "Epoch  1, CIFAR-10 Batch 1:  Loss:     2.1621 Accuracy: 0.225000\n",
      "Epoch  1, CIFAR-10 Batch 2:  Loss:     1.8149 Accuracy: 0.400000\n",
      "Epoch  1, CIFAR-10 Batch 3:  Loss:     1.4841 Accuracy: 0.500000\n",
      "Epoch  1, CIFAR-10 Batch 4:  Loss:     1.5493 Accuracy: 0.400000\n",
      "Epoch  1, CIFAR-10 Batch 5:  Loss:     1.4675 Accuracy: 0.575000\n",
      "Epoch  2, CIFAR-10 Batch 1:  Loss:     1.5521 Accuracy: 0.450000\n",
      "Epoch  2, CIFAR-10 Batch 2:  Loss:     1.2824 Accuracy: 0.475000\n",
      "Epoch  2, CIFAR-10 Batch 3:  Loss:     1.0990 Accuracy: 0.675000\n",
      "Epoch  2, CIFAR-10 Batch 4:  Loss:     1.2888 Accuracy: 0.550000\n",
      "Epoch  2, CIFAR-10 Batch 5:  Loss:     1.2453 Accuracy: 0.625000\n",
      "Epoch  3, CIFAR-10 Batch 1:  Loss:     1.2786 Accuracy: 0.550000\n",
      "Epoch  3, CIFAR-10 Batch 2:  Loss:     1.0365 Accuracy: 0.650000\n",
      "Epoch  3, CIFAR-10 Batch 3:  Loss:     0.9677 Accuracy: 0.675000\n",
      "Epoch  3, CIFAR-10 Batch 4:  Loss:     1.0568 Accuracy: 0.775000\n",
      "Epoch  3, CIFAR-10 Batch 5:  Loss:     1.0742 Accuracy: 0.675000\n",
      "Epoch  4, CIFAR-10 Batch 1:  Loss:     1.1255 Accuracy: 0.625000\n",
      "Epoch  4, CIFAR-10 Batch 2:  Loss:     0.8486 Accuracy: 0.700000\n",
      "Epoch  4, CIFAR-10 Batch 3:  Loss:     0.8028 Accuracy: 0.775000\n",
      "Epoch  4, CIFAR-10 Batch 4:  Loss:     0.9035 Accuracy: 0.750000\n",
      "Epoch  4, CIFAR-10 Batch 5:  Loss:     0.9434 Accuracy: 0.675000\n",
      "Epoch  5, CIFAR-10 Batch 1:  Loss:     0.9720 Accuracy: 0.700000\n",
      "Epoch  5, CIFAR-10 Batch 2:  Loss:     0.7524 Accuracy: 0.725000\n",
      "Epoch  5, CIFAR-10 Batch 3:  Loss:     0.7025 Accuracy: 0.850000\n",
      "Epoch  5, CIFAR-10 Batch 4:  Loss:     0.7766 Accuracy: 0.750000\n",
      "Epoch  5, CIFAR-10 Batch 5:  Loss:     0.8378 Accuracy: 0.750000\n",
      "Epoch  6, CIFAR-10 Batch 1:  Loss:     0.8220 Accuracy: 0.750000\n",
      "Epoch  6, CIFAR-10 Batch 2:  Loss:     0.6286 Accuracy: 0.925000\n",
      "Epoch  6, CIFAR-10 Batch 3:  Loss:     0.6426 Accuracy: 0.850000\n",
      "Epoch  6, CIFAR-10 Batch 4:  Loss:     0.7100 Accuracy: 0.750000\n",
      "Epoch  6, CIFAR-10 Batch 5:  Loss:     0.7053 Accuracy: 0.825000\n",
      "Epoch  7, CIFAR-10 Batch 1:  Loss:     0.7703 Accuracy: 0.775000\n",
      "Epoch  7, CIFAR-10 Batch 2:  Loss:     0.5389 Accuracy: 0.900000\n",
      "Epoch  7, CIFAR-10 Batch 3:  Loss:     0.4933 Accuracy: 0.875000\n",
      "Epoch  7, CIFAR-10 Batch 4:  Loss:     0.5981 Accuracy: 0.775000\n",
      "Epoch  7, CIFAR-10 Batch 5:  Loss:     0.6432 Accuracy: 0.900000\n",
      "Epoch  8, CIFAR-10 Batch 1:  Loss:     0.6673 Accuracy: 0.775000\n",
      "Epoch  8, CIFAR-10 Batch 2:  Loss:     0.4724 Accuracy: 0.975000\n",
      "Epoch  8, CIFAR-10 Batch 3:  Loss:     0.4735 Accuracy: 0.950000\n",
      "Epoch  8, CIFAR-10 Batch 4:  Loss:     0.5130 Accuracy: 0.850000\n",
      "Epoch  8, CIFAR-10 Batch 5:  Loss:     0.5349 Accuracy: 0.925000\n",
      "Epoch  9, CIFAR-10 Batch 1:  Loss:     0.6187 Accuracy: 0.825000\n",
      "Epoch  9, CIFAR-10 Batch 2:  Loss:     0.4396 Accuracy: 0.975000\n",
      "Epoch  9, CIFAR-10 Batch 3:  Loss:     0.3852 Accuracy: 0.925000\n",
      "Epoch  9, CIFAR-10 Batch 4:  Loss:     0.4638 Accuracy: 0.875000\n",
      "Epoch  9, CIFAR-10 Batch 5:  Loss:     0.5285 Accuracy: 0.875000\n",
      "Epoch 10, CIFAR-10 Batch 1:  Loss:     0.5573 Accuracy: 0.825000\n",
      "Epoch 10, CIFAR-10 Batch 2:  Loss:     0.3644 Accuracy: 0.975000\n",
      "Epoch 10, CIFAR-10 Batch 3:  Loss:     0.3810 Accuracy: 0.950000\n",
      "Epoch 10, CIFAR-10 Batch 4:  Loss:     0.4174 Accuracy: 0.875000\n",
      "Epoch 10, CIFAR-10 Batch 5:  Loss:     0.4683 Accuracy: 0.900000\n",
      "Epoch 11, CIFAR-10 Batch 1:  Loss:     0.5750 Accuracy: 0.825000\n",
      "Epoch 11, CIFAR-10 Batch 2:  Loss:     0.3576 Accuracy: 0.975000\n",
      "Epoch 11, CIFAR-10 Batch 3:  Loss:     0.3340 Accuracy: 0.925000\n",
      "Epoch 11, CIFAR-10 Batch 4:  Loss:     0.4250 Accuracy: 0.900000\n",
      "Epoch 11, CIFAR-10 Batch 5:  Loss:     0.4106 Accuracy: 0.925000\n",
      "Epoch 12, CIFAR-10 Batch 1:  Loss:     0.5095 Accuracy: 0.825000\n",
      "Epoch 12, CIFAR-10 Batch 2:  Loss:     0.2654 Accuracy: 1.000000\n",
      "Epoch 12, CIFAR-10 Batch 3:  Loss:     0.2976 Accuracy: 0.950000\n",
      "Epoch 12, CIFAR-10 Batch 4:  Loss:     0.3554 Accuracy: 0.875000\n",
      "Epoch 12, CIFAR-10 Batch 5:  Loss:     0.3276 Accuracy: 0.925000\n",
      "Epoch 13, CIFAR-10 Batch 1:  Loss:     0.4717 Accuracy: 0.850000\n",
      "Epoch 13, CIFAR-10 Batch 2:  Loss:     0.2421 Accuracy: 1.000000\n",
      "Epoch 13, CIFAR-10 Batch 3:  Loss:     0.2674 Accuracy: 0.950000\n",
      "Epoch 13, CIFAR-10 Batch 4:  Loss:     0.3072 Accuracy: 0.900000\n",
      "Epoch 13, CIFAR-10 Batch 5:  Loss:     0.2970 Accuracy: 0.950000\n",
      "Epoch 14, CIFAR-10 Batch 1:  Loss:     0.4040 Accuracy: 0.875000\n",
      "Epoch 14, CIFAR-10 Batch 2:  Loss:     0.2366 Accuracy: 1.000000\n",
      "Epoch 14, CIFAR-10 Batch 3:  Loss:     0.2224 Accuracy: 0.975000\n",
      "Epoch 14, CIFAR-10 Batch 4:  Loss:     0.2640 Accuracy: 0.950000\n",
      "Epoch 14, CIFAR-10 Batch 5:  Loss:     0.2796 Accuracy: 0.950000\n",
      "Epoch 15, CIFAR-10 Batch 1:  Loss:     0.3802 Accuracy: 0.875000\n",
      "Epoch 15, CIFAR-10 Batch 2:  Loss:     0.1972 Accuracy: 1.000000\n",
      "Epoch 15, CIFAR-10 Batch 3:  Loss:     0.2206 Accuracy: 0.950000\n",
      "Epoch 15, CIFAR-10 Batch 4:  Loss:     0.2300 Accuracy: 1.000000\n",
      "Epoch 15, CIFAR-10 Batch 5:  Loss:     0.2501 Accuracy: 0.950000\n",
      "Epoch 16, CIFAR-10 Batch 1:  Loss:     0.3341 Accuracy: 0.900000\n",
      "Epoch 16, CIFAR-10 Batch 2:  Loss:     0.1985 Accuracy: 1.000000\n",
      "Epoch 16, CIFAR-10 Batch 3:  Loss:     0.2142 Accuracy: 1.000000\n",
      "Epoch 16, CIFAR-10 Batch 4:  Loss:     0.1863 Accuracy: 1.000000\n",
      "Epoch 16, CIFAR-10 Batch 5:  Loss:     0.2345 Accuracy: 0.975000\n",
      "Epoch 17, CIFAR-10 Batch 1:  Loss:     0.3352 Accuracy: 0.925000\n",
      "Epoch 17, CIFAR-10 Batch 2:  Loss:     0.1519 Accuracy: 1.000000\n",
      "Epoch 17, CIFAR-10 Batch 3:  Loss:     0.1976 Accuracy: 0.975000\n",
      "Epoch 17, CIFAR-10 Batch 4:  Loss:     0.1839 Accuracy: 1.000000\n",
      "Epoch 17, CIFAR-10 Batch 5:  Loss:     0.2325 Accuracy: 0.950000\n",
      "Epoch 18, CIFAR-10 Batch 1:  Loss:     0.2675 Accuracy: 0.950000\n",
      "Epoch 18, CIFAR-10 Batch 2:  Loss:     0.1471 Accuracy: 1.000000\n",
      "Epoch 18, CIFAR-10 Batch 3:  Loss:     0.1759 Accuracy: 0.950000\n",
      "Epoch 18, CIFAR-10 Batch 4:  Loss:     0.1834 Accuracy: 1.000000\n",
      "Epoch 18, CIFAR-10 Batch 5:  Loss:     0.1831 Accuracy: 1.000000\n",
      "Epoch 19, CIFAR-10 Batch 1:  Loss:     0.2681 Accuracy: 0.950000\n",
      "Epoch 19, CIFAR-10 Batch 2:  Loss:     0.1422 Accuracy: 1.000000\n",
      "Epoch 19, CIFAR-10 Batch 3:  Loss:     0.1767 Accuracy: 0.950000\n",
      "Epoch 19, CIFAR-10 Batch 4:  Loss:     0.1567 Accuracy: 1.000000\n",
      "Epoch 19, CIFAR-10 Batch 5:  Loss:     0.1988 Accuracy: 0.950000\n",
      "Epoch 20, CIFAR-10 Batch 1:  Loss:     0.2249 Accuracy: 1.000000\n",
      "Epoch 20, CIFAR-10 Batch 2:  Loss:     0.1146 Accuracy: 1.000000\n",
      "Epoch 20, CIFAR-10 Batch 3:  Loss:     0.1388 Accuracy: 1.000000\n",
      "Epoch 20, CIFAR-10 Batch 4:  Loss:     0.1633 Accuracy: 1.000000\n",
      "Epoch 20, CIFAR-10 Batch 5:  Loss:     0.1790 Accuracy: 1.000000\n",
      "Epoch 21, CIFAR-10 Batch 1:  Loss:     0.2244 Accuracy: 1.000000\n",
      "Epoch 21, CIFAR-10 Batch 2:  Loss:     0.1221 Accuracy: 1.000000\n",
      "Epoch 21, CIFAR-10 Batch 3:  Loss:     0.1540 Accuracy: 0.975000\n",
      "Epoch 21, CIFAR-10 Batch 4:  Loss:     0.1582 Accuracy: 1.000000\n",
      "Epoch 21, CIFAR-10 Batch 5:  Loss:     0.1668 Accuracy: 1.000000\n",
      "Epoch 22, CIFAR-10 Batch 1:  Loss:     0.2014 Accuracy: 1.000000\n",
      "Epoch 22, CIFAR-10 Batch 2:  Loss:     0.1232 Accuracy: 1.000000\n",
      "Epoch 22, CIFAR-10 Batch 3:  Loss:     0.1189 Accuracy: 0.950000\n",
      "Epoch 22, CIFAR-10 Batch 4:  Loss:     0.1365 Accuracy: 1.000000\n",
      "Epoch 22, CIFAR-10 Batch 5:  Loss:     0.1338 Accuracy: 1.000000\n",
      "Epoch 23, CIFAR-10 Batch 1:  Loss:     0.1734 Accuracy: 1.000000\n",
      "Epoch 23, CIFAR-10 Batch 2:  Loss:     0.1075 Accuracy: 1.000000\n",
      "Epoch 23, CIFAR-10 Batch 3:  Loss:     0.1273 Accuracy: 1.000000\n",
      "Epoch 23, CIFAR-10 Batch 4:  Loss:     0.1338 Accuracy: 1.000000\n",
      "Epoch 23, CIFAR-10 Batch 5:  Loss:     0.1193 Accuracy: 1.000000\n",
      "Epoch 24, CIFAR-10 Batch 1:  Loss:     0.1674 Accuracy: 1.000000\n",
      "Epoch 24, CIFAR-10 Batch 2:  Loss:     0.1037 Accuracy: 1.000000\n",
      "Epoch 24, CIFAR-10 Batch 3:  Loss:     0.1020 Accuracy: 1.000000\n",
      "Epoch 24, CIFAR-10 Batch 4:  Loss:     0.1140 Accuracy: 1.000000\n",
      "Epoch 24, CIFAR-10 Batch 5:  Loss:     0.1343 Accuracy: 1.000000\n",
      "Epoch 25, CIFAR-10 Batch 1:  Loss:     0.1591 Accuracy: 1.000000\n",
      "Epoch 25, CIFAR-10 Batch 2:  Loss:     0.0841 Accuracy: 1.000000\n",
      "Epoch 25, CIFAR-10 Batch 3:  Loss:     0.1141 Accuracy: 1.000000\n",
      "Epoch 25, CIFAR-10 Batch 4:  Loss:     0.1032 Accuracy: 1.000000\n",
      "Epoch 25, CIFAR-10 Batch 5:  Loss:     0.1171 Accuracy: 1.000000\n",
      "Epoch 26, CIFAR-10 Batch 1:  Loss:     0.1323 Accuracy: 1.000000\n",
      "Epoch 26, CIFAR-10 Batch 2:  Loss:     0.1001 Accuracy: 1.000000\n",
      "Epoch 26, CIFAR-10 Batch 3:  Loss:     0.0892 Accuracy: 1.000000\n",
      "Epoch 26, CIFAR-10 Batch 4:  Loss:     0.0987 Accuracy: 1.000000\n",
      "Epoch 26, CIFAR-10 Batch 5:  Loss:     0.1109 Accuracy: 1.000000\n",
      "Epoch 27, CIFAR-10 Batch 1:  Loss:     0.1349 Accuracy: 1.000000\n",
      "Epoch 27, CIFAR-10 Batch 2:  Loss:     0.0901 Accuracy: 1.000000\n",
      "Epoch 27, CIFAR-10 Batch 3:  Loss:     0.1091 Accuracy: 1.000000\n",
      "Epoch 27, CIFAR-10 Batch 4:  Loss:     0.0825 Accuracy: 1.000000\n",
      "Epoch 27, CIFAR-10 Batch 5:  Loss:     0.0906 Accuracy: 1.000000\n",
      "Epoch 28, CIFAR-10 Batch 1:  Loss:     0.1140 Accuracy: 1.000000\n",
      "Epoch 28, CIFAR-10 Batch 2:  Loss:     0.0858 Accuracy: 1.000000\n",
      "Epoch 28, CIFAR-10 Batch 3:  Loss:     0.0836 Accuracy: 1.000000\n",
      "Epoch 28, CIFAR-10 Batch 4:  Loss:     0.0826 Accuracy: 1.000000\n",
      "Epoch 28, CIFAR-10 Batch 5:  Loss:     0.0930 Accuracy: 1.000000\n",
      "Epoch 29, CIFAR-10 Batch 1:  Loss:     0.1131 Accuracy: 1.000000\n",
      "Epoch 29, CIFAR-10 Batch 2:  Loss:     0.0755 Accuracy: 1.000000\n",
      "Epoch 29, CIFAR-10 Batch 3:  Loss:     0.0862 Accuracy: 1.000000\n",
      "Epoch 29, CIFAR-10 Batch 4:  Loss:     0.0773 Accuracy: 1.000000\n",
      "Epoch 29, CIFAR-10 Batch 5:  Loss:     0.0701 Accuracy: 1.000000\n",
      "Epoch 30, CIFAR-10 Batch 1:  Loss:     0.1162 Accuracy: 1.000000\n",
      "Epoch 30, CIFAR-10 Batch 2:  Loss:     0.0933 Accuracy: 1.000000\n",
      "Epoch 30, CIFAR-10 Batch 3:  Loss:     0.0672 Accuracy: 1.000000\n",
      "Epoch 30, CIFAR-10 Batch 4:  Loss:     0.0839 Accuracy: 1.000000\n",
      "Epoch 30, CIFAR-10 Batch 5:  Loss:     0.0786 Accuracy: 1.000000\n",
      "Epoch 31, CIFAR-10 Batch 1:  Loss:     0.1064 Accuracy: 0.975000\n",
      "Epoch 31, CIFAR-10 Batch 2:  Loss:     0.0974 Accuracy: 0.975000\n",
      "Epoch 31, CIFAR-10 Batch 3:  Loss:     0.0654 Accuracy: 1.000000\n",
      "Epoch 31, CIFAR-10 Batch 4:  Loss:     0.0647 Accuracy: 1.000000\n",
      "Epoch 31, CIFAR-10 Batch 5:  Loss:     0.0869 Accuracy: 1.000000\n",
      "Epoch 32, CIFAR-10 Batch 1:  Loss:     0.0822 Accuracy: 1.000000\n",
      "Epoch 32, CIFAR-10 Batch 2:  Loss:     0.0775 Accuracy: 1.000000\n",
      "Epoch 32, CIFAR-10 Batch 3:  Loss:     0.0883 Accuracy: 1.000000\n",
      "Epoch 32, CIFAR-10 Batch 4:  Loss:     0.0793 Accuracy: 1.000000\n",
      "Epoch 32, CIFAR-10 Batch 5:  Loss:     0.0737 Accuracy: 1.000000\n",
      "Epoch 33, CIFAR-10 Batch 1:  Loss:     0.0913 Accuracy: 1.000000\n",
      "Epoch 33, CIFAR-10 Batch 2:  Loss:     0.0692 Accuracy: 1.000000\n",
      "Epoch 33, CIFAR-10 Batch 3:  Loss:     0.0717 Accuracy: 1.000000\n",
      "Epoch 33, CIFAR-10 Batch 4:  Loss:     0.0571 Accuracy: 1.000000\n",
      "Epoch 33, CIFAR-10 Batch 5:  Loss:     0.0482 Accuracy: 1.000000\n",
      "Epoch 34, CIFAR-10 Batch 1:  Loss:     0.0739 Accuracy: 1.000000\n",
      "Epoch 34, CIFAR-10 Batch 2:  Loss:     0.0613 Accuracy: 1.000000\n",
      "Epoch 34, CIFAR-10 Batch 3:  Loss:     0.0580 Accuracy: 1.000000\n",
      "Epoch 34, CIFAR-10 Batch 4:  Loss:     0.0405 Accuracy: 1.000000\n",
      "Epoch 34, CIFAR-10 Batch 5:  Loss:     0.0535 Accuracy: 1.000000\n",
      "Epoch 35, CIFAR-10 Batch 1:  Loss:     0.0866 Accuracy: 1.000000\n",
      "Epoch 35, CIFAR-10 Batch 2:  Loss:     0.0762 Accuracy: 1.000000\n",
      "Epoch 35, CIFAR-10 Batch 3:  Loss:     0.0612 Accuracy: 1.000000\n",
      "Epoch 35, CIFAR-10 Batch 4:  Loss:     0.0510 Accuracy: 1.000000\n",
      "Epoch 35, CIFAR-10 Batch 5:  Loss:     0.0621 Accuracy: 1.000000\n",
      "Epoch 36, CIFAR-10 Batch 1:  Loss:     0.0609 Accuracy: 1.000000\n",
      "Epoch 36, CIFAR-10 Batch 2:  Loss:     0.0471 Accuracy: 1.000000\n",
      "Epoch 36, CIFAR-10 Batch 3:  Loss:     0.0605 Accuracy: 1.000000\n",
      "Epoch 36, CIFAR-10 Batch 4:  Loss:     0.0555 Accuracy: 1.000000\n",
      "Epoch 36, CIFAR-10 Batch 5:  Loss:     0.0679 Accuracy: 1.000000\n",
      "Epoch 37, CIFAR-10 Batch 1:  Loss:     0.0682 Accuracy: 1.000000\n",
      "Epoch 37, CIFAR-10 Batch 2:  Loss:     0.0542 Accuracy: 1.000000\n",
      "Epoch 37, CIFAR-10 Batch 3:  Loss:     0.0529 Accuracy: 1.000000\n",
      "Epoch 37, CIFAR-10 Batch 4:  Loss:     0.0580 Accuracy: 1.000000\n",
      "Epoch 37, CIFAR-10 Batch 5:  Loss:     0.0459 Accuracy: 1.000000\n",
      "Epoch 38, CIFAR-10 Batch 1:  Loss:     0.0618 Accuracy: 1.000000\n",
      "Epoch 38, CIFAR-10 Batch 2:  Loss:     0.0479 Accuracy: 1.000000\n",
      "Epoch 38, CIFAR-10 Batch 3:  Loss:     0.0476 Accuracy: 1.000000\n",
      "Epoch 38, CIFAR-10 Batch 4:  Loss:     0.0474 Accuracy: 1.000000\n",
      "Epoch 38, CIFAR-10 Batch 5:  Loss:     0.0572 Accuracy: 1.000000\n",
      "Epoch 39, CIFAR-10 Batch 1:  Loss:     0.0457 Accuracy: 1.000000\n",
      "Epoch 39, CIFAR-10 Batch 2:  Loss:     0.0443 Accuracy: 1.000000\n",
      "Epoch 39, CIFAR-10 Batch 3:  Loss:     0.0388 Accuracy: 1.000000\n",
      "Epoch 39, CIFAR-10 Batch 4:  Loss:     0.0427 Accuracy: 1.000000\n",
      "Epoch 39, CIFAR-10 Batch 5:  Loss:     0.0422 Accuracy: 1.000000\n",
      "Epoch 40, CIFAR-10 Batch 1:  Loss:     0.0469 Accuracy: 1.000000\n",
      "Epoch 40, CIFAR-10 Batch 2:  Loss:     0.0456 Accuracy: 1.000000\n",
      "Epoch 40, CIFAR-10 Batch 3:  Loss:     0.0343 Accuracy: 1.000000\n",
      "Epoch 40, CIFAR-10 Batch 4:  Loss:     0.0364 Accuracy: 1.000000\n",
      "Epoch 40, CIFAR-10 Batch 5:  Loss:     0.0383 Accuracy: 1.000000\n",
      "Epoch 41, CIFAR-10 Batch 1:  Loss:     0.0519 Accuracy: 1.000000\n",
      "Epoch 41, CIFAR-10 Batch 2:  Loss:     0.0333 Accuracy: 1.000000\n",
      "Epoch 41, CIFAR-10 Batch 3:  Loss:     0.0420 Accuracy: 1.000000\n",
      "Epoch 41, CIFAR-10 Batch 4:  Loss:     0.0397 Accuracy: 1.000000\n",
      "Epoch 41, CIFAR-10 Batch 5:  Loss:     0.0334 Accuracy: 1.000000\n",
      "Epoch 42, CIFAR-10 Batch 1:  Loss:     0.0492 Accuracy: 1.000000\n",
      "Epoch 42, CIFAR-10 Batch 2:  Loss:     0.0494 Accuracy: 1.000000\n",
      "Epoch 42, CIFAR-10 Batch 3:  Loss:     0.0438 Accuracy: 1.000000\n",
      "Epoch 42, CIFAR-10 Batch 4:  Loss:     0.0374 Accuracy: 1.000000\n",
      "Epoch 42, CIFAR-10 Batch 5:  Loss:     0.0403 Accuracy: 1.000000\n",
      "Epoch 43, CIFAR-10 Batch 1:  Loss:     0.0502 Accuracy: 1.000000\n",
      "Epoch 43, CIFAR-10 Batch 2:  Loss:     0.0347 Accuracy: 1.000000\n",
      "Epoch 43, CIFAR-10 Batch 3:  Loss:     0.0470 Accuracy: 1.000000\n",
      "Epoch 43, CIFAR-10 Batch 4:  Loss:     0.0368 Accuracy: 1.000000\n",
      "Epoch 43, CIFAR-10 Batch 5:  Loss:     0.0321 Accuracy: 1.000000\n",
      "Epoch 44, CIFAR-10 Batch 1:  Loss:     0.0574 Accuracy: 1.000000\n",
      "Epoch 44, CIFAR-10 Batch 2:  Loss:     0.0270 Accuracy: 1.000000\n",
      "Epoch 44, CIFAR-10 Batch 3:  Loss:     0.0422 Accuracy: 1.000000\n",
      "Epoch 44, CIFAR-10 Batch 4:  Loss:     0.0310 Accuracy: 1.000000\n",
      "Epoch 44, CIFAR-10 Batch 5:  Loss:     0.0265 Accuracy: 1.000000\n",
      "Epoch 45, CIFAR-10 Batch 1:  Loss:     0.0448 Accuracy: 1.000000\n",
      "Epoch 45, CIFAR-10 Batch 2:  Loss:     0.0290 Accuracy: 1.000000\n",
      "Epoch 45, CIFAR-10 Batch 3:  Loss:     0.0410 Accuracy: 1.000000\n",
      "Epoch 45, CIFAR-10 Batch 4:  Loss:     0.0244 Accuracy: 1.000000\n",
      "Epoch 45, CIFAR-10 Batch 5:  Loss:     0.0272 Accuracy: 1.000000\n",
      "Epoch 46, CIFAR-10 Batch 1:  Loss:     0.0507 Accuracy: 1.000000\n",
      "Epoch 46, CIFAR-10 Batch 2:  Loss:     0.0307 Accuracy: 1.000000\n",
      "Epoch 46, CIFAR-10 Batch 3:  Loss:     0.0304 Accuracy: 1.000000\n",
      "Epoch 46, CIFAR-10 Batch 4:  Loss:     0.0276 Accuracy: 1.000000\n",
      "Epoch 46, CIFAR-10 Batch 5:  Loss:     0.0320 Accuracy: 1.000000\n",
      "Epoch 47, CIFAR-10 Batch 1:  Loss:     0.0433 Accuracy: 1.000000\n",
      "Epoch 47, CIFAR-10 Batch 2:  Loss:     0.0293 Accuracy: 1.000000\n",
      "Epoch 47, CIFAR-10 Batch 3:  Loss:     0.0398 Accuracy: 1.000000\n",
      "Epoch 47, CIFAR-10 Batch 4:  Loss:     0.0170 Accuracy: 1.000000\n",
      "Epoch 47, CIFAR-10 Batch 5:  Loss:     0.0255 Accuracy: 1.000000\n",
      "Epoch 48, CIFAR-10 Batch 1:  Loss:     0.0496 Accuracy: 1.000000\n",
      "Epoch 48, CIFAR-10 Batch 2:  Loss:     0.0262 Accuracy: 1.000000\n",
      "Epoch 48, CIFAR-10 Batch 3:  Loss:     0.0360 Accuracy: 1.000000\n",
      "Epoch 48, CIFAR-10 Batch 4:  Loss:     0.0273 Accuracy: 1.000000\n",
      "Epoch 48, CIFAR-10 Batch 5:  Loss:     0.0263 Accuracy: 1.000000\n",
      "Epoch 49, CIFAR-10 Batch 1:  Loss:     0.0405 Accuracy: 1.000000\n",
      "Epoch 49, CIFAR-10 Batch 2:  Loss:     0.0280 Accuracy: 1.000000\n",
      "Epoch 49, CIFAR-10 Batch 3:  Loss:     0.0349 Accuracy: 1.000000\n",
      "Epoch 49, CIFAR-10 Batch 4:  Loss:     0.0250 Accuracy: 1.000000\n",
      "Epoch 49, CIFAR-10 Batch 5:  Loss:     0.0330 Accuracy: 1.000000\n",
      "Epoch 50, CIFAR-10 Batch 1:  Loss:     0.0395 Accuracy: 1.000000\n",
      "Epoch 50, CIFAR-10 Batch 2:  Loss:     0.0287 Accuracy: 1.000000\n",
      "Epoch 50, CIFAR-10 Batch 3:  Loss:     0.0249 Accuracy: 1.000000\n",
      "Epoch 50, CIFAR-10 Batch 4:  Loss:     0.0155 Accuracy: 1.000000\n",
      "Epoch 50, CIFAR-10 Batch 5:  Loss:     0.0191 Accuracy: 1.000000\n"
     ]
    }
   ],
   "source": [
    "\"\"\"\n",
    "DON'T MODIFY ANYTHING IN THIS CELL\n",
    "\"\"\"\n",
    "save_model_path = './image_classification'\n",
    "\n",
    "print('Training...')\n",
    "with tf.Session() as sess:\n",
    "    # Initializing the variables\n",
    "    sess.run(tf.global_variables_initializer())\n",
    "    \n",
    "    # Training cycle\n",
    "    for epoch in range(epochs):\n",
    "        # Loop over all batches\n",
    "        n_batches = 5\n",
    "        for batch_i in range(1, n_batches + 1):\n",
    "            for batch_features, batch_labels in helper.load_preprocess_training_batch(batch_i, batch_size):\n",
    "                train_neural_network(sess, optimizer, keep_probability, batch_features, batch_labels)\n",
    "            print('Epoch {:>2}, CIFAR-10 Batch {}:  '.format(epoch + 1, batch_i), end='')\n",
    "            print_stats(sess, batch_features, batch_labels, cost, accuracy)\n",
    "            \n",
    "    # Save Model\n",
    "    saver = tf.train.Saver()\n",
    "    save_path = saver.save(sess, save_model_path)"
   ]
  },
  {
   "cell_type": "markdown",
   "metadata": {
    "deletable": true,
    "editable": true
   },
   "source": [
    "# Checkpoint\n",
    "The model has been saved to disk.\n",
    "## Test Model\n",
    "Test your model against the test dataset.  This will be your final accuracy. You should have an accuracy greater than 50%. If you don't, keep tweaking the model architecture and parameters."
   ]
  },
  {
   "cell_type": "code",
   "execution_count": 32,
   "metadata": {
    "collapsed": false,
    "deletable": true,
    "editable": true
   },
   "outputs": [
    {
     "name": "stdout",
     "output_type": "stream",
     "text": [
      "Testing Accuracy: 0.670703125\n",
      "\n"
     ]
    },
    {
     "data": {
      "image/png": "[encoded data removed]",
      "text/plain": [
       "<matplotlib.figure.Figure at 0x7f20a5e75f28>"
      ]
     },
     "metadata": {
      "image/png": {
       "height": 319,
       "width": 355
      }
     },
     "output_type": "display_data"
    }
   ],
   "source": [
    "\"\"\"\n",
    "DON'T MODIFY ANYTHING IN THIS CELL\n",
    "\"\"\"\n",
    "%matplotlib inline\n",
    "%config InlineBackend.figure_format = 'retina'\n",
    "\n",
    "import tensorflow as tf\n",
    "import pickle\n",
    "import helper\n",
    "import random\n",
    "\n",
    "# Set batch size if not already set\n",
    "try:\n",
    "    if batch_size:\n",
    "        pass\n",
    "except NameError:\n",
    "    batch_size = 64\n",
    "\n",
    "save_model_path = './image_classification'\n",
    "n_samples = 4\n",
    "top_n_predictions = 3\n",
    "\n",
    "def test_model():\n",
    "    \"\"\"\n",
    "    Test the saved model against the test dataset\n",
    "    \"\"\"\n",
    "\n",
    "    test_features, test_labels = pickle.load(open('preprocess_training.p', mode='rb'))\n",
    "    loaded_graph = tf.Graph()\n",
    "\n",
    "    with tf.Session(graph=loaded_graph) as sess:\n",
    "        # Load model\n",
    "        loader = tf.train.import_meta_graph(save_model_path + '.meta')\n",
    "        loader.restore(sess, save_model_path)\n",
    "\n",
    "        # Get Tensors from loaded model\n",
    "        loaded_x = loaded_graph.get_tensor_by_name('x:0')\n",
    "        loaded_y = loaded_graph.get_tensor_by_name('y:0')\n",
    "        loaded_keep_prob = loaded_graph.get_tensor_by_name('keep_prob:0')\n",
    "        loaded_logits = loaded_graph.get_tensor_by_name('logits:0')\n",
    "        loaded_acc = loaded_graph.get_tensor_by_name('accuracy:0')\n",
    "        \n",
    "        # Get accuracy in batches for memory limitations\n",
    "        test_batch_acc_total = 0\n",
    "        test_batch_count = 0\n",
    "        \n",
    "        for train_feature_batch, train_label_batch in helper.batch_features_labels(test_features, test_labels, batch_size):\n",
    "            test_batch_acc_total += sess.run(\n",
    "                loaded_acc,\n",
    "                feed_dict={loaded_x: train_feature_batch, loaded_y: train_label_batch, loaded_keep_prob: 1.0})\n",
    "            test_batch_count += 1\n",
    "\n",
    "        print('Testing Accuracy: {}\\n'.format(test_batch_acc_total/test_batch_count))\n",
    "\n",
    "        # Print Random Samples\n",
    "        random_test_features, random_test_labels = tuple(zip(*random.sample(list(zip(test_features, test_labels)), n_samples)))\n",
    "        random_test_predictions = sess.run(\n",
    "            tf.nn.top_k(tf.nn.softmax(loaded_logits), top_n_predictions),\n",
    "            feed_dict={loaded_x: random_test_features, loaded_y: random_test_labels, loaded_keep_prob: 1.0})\n",
    "        helper.display_image_predictions(random_test_features, random_test_labels, random_test_predictions)\n",
    "\n",
    "\n",
    "test_model()"
   ]
  },
  {
   "cell_type": "markdown",
   "metadata": {
    "deletable": true,
    "editable": true
   },
   "source": [
    "## Why 50-80% Accuracy?\n",
    "You might be wondering why you can't get an accuracy any higher. First things first, 50% isn't bad for a simple CNN.  Pure guessing would get you 10% accuracy. However, you might notice people are getting scores [well above 80%](http://rodrigob.github.io/are_we_there_yet/build/classification_datasets_results.html#43494641522d3130).  That's because we haven't taught you all there is to know about neural networks. We still need to cover a few more techniques.\n",
    "## Submitting This Project\n",
    "When submitting this project, make sure to run all the cells before saving the notebook.  Save the notebook file as \"dlnd_image_classification.ipynb\" and save it as a HTML file under \"File\" -> \"Download as\".  Include the \"helper.py\" and \"problem_unittests.py\" files in your submission."
   ]
  },
  {
   "cell_type": "code",
   "execution_count": null,
   "metadata": {
    "collapsed": true
   },
   "outputs": [],
   "source": []
  }
 ],
 "metadata": {
  "kernelspec": {
   "display_name": "Python 3",
   "language": "python",
   "name": "python3"
  },
  "language_info": {
   "codemirror_mode": {
    "name": "ipython",
    "version": 3
   },
   "file_extension": ".py",
   "mimetype": "text/x-python",
   "name": "python",
   "nbconvert_exporter": "python",
   "pygments_lexer": "ipython3",
   "version": "3.5.2"
  },
  "widgets": {
   "state": {},
   "version": "1.1.2"
  }
 },
 "nbformat": 4,
 "nbformat_minor": 0
}
